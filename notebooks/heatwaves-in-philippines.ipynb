{
 "cells": [
  {
   "cell_type": "code",
   "execution_count": null,
   "metadata": {},
   "outputs": [],
   "source": []
  },
  {
   "cell_type": "code",
   "execution_count": null,
   "metadata": {},
   "outputs": [],
   "source": [
    "import pandas as pd\n",
    "import rioxarray\n",
    "import xarray as xr\n",
    "from netCDF4 import Dataset\n",
    "import geopandas\n",
    "# from utilities.weatherFunctions import *\n",
    "# from utilities.geographicFunctions import *"
   ]
  },
  {
   "cell_type": "code",
   "execution_count": null,
   "metadata": {},
   "outputs": [],
   "source": [
    "import bokeh\n",
    "from bokeh.layouts import *\n",
    "from bokeh.models import *\n",
    "import matplotlib as mpl\n",
    "\n",
    "from bokeh.core.validation.warnings import EMPTY_LAYOUT, MISSING_RENDERERS\n",
    "bokeh.core.validation.silence(EMPTY_LAYOUT, True)\n",
    "bokeh.core.validation.silence(MISSING_RENDERERS, True)\n",
    "from bokeh.plotting import figure, output_file, show, output_notebook\n",
    "from bokeh.models import Span"
   ]
  },
  {
   "cell_type": "markdown",
   "metadata": {},
   "source": [
    "# Measuring impact of heatwaves in the Philippines\n",
    "\n",
    "What is heatwave? \n",
    "\n",
    "\n",
    "HWDI:\n",
    "Heat Index: \n",
    "\n",
    "How is the Philippines affected by heat? \n",
    "Recent months - extreme heat \n",
    "\n",
    "In this notebook, we visualize the areas within Filipino cities that are adversely impacted by heat using multiple data sources \n",
    "\n",
    "Step 1: Using Population of the Philippines we pick 4 cities \n",
    "Step 1.1 Visualize population using ADMIN 1, 2, 3 \n",
    "Step 1.2 Visualize population HEX Grid 7\n",
    "\n",
    "Step 2: Historical heatwave analysis \n",
    "using GLDAS data to identify heatwaves from a variation of the WMO formula\n",
    "Step 2.1 Observations from this chart - Ananda\n",
    "\n",
    "Step 3: Historical heat index analysis \n",
    "Heat Index is a better measure to understand the health impact of excess heat \n",
    "Step 3.1 Observations from histrocal heat index using GLDAS data \n",
    "\n",
    "Step 4: Using Tomorrow.io data to get granular heat index \n",
    "Step 4.2 Foursquare grid \n",
    "\n",
    "Step 5: using PAGASA heat index data to compare \n",
    "\n",
    "Step 6: Greencover and heat index\n",
    "\n",
    "Step 7: Electricity distribution, green cover and heat index"
   ]
  },
  {
   "cell_type": "markdown",
   "metadata": {},
   "source": [
    "Heatwaves are generally understood to be the combination of extreme temperatures over multiple days. A more quantitative definition, however, is very contested and there is no definitive answer, with different characterizations being useful at different times or contexts.\n",
    "\n",
    "They can be dangerous to the human body and very damaging to plants, animals, and structures. With climate change, they will probably become more frequent and longer, putting much of the world at risk. \n",
    "\n",
    "The urban regions in the Philippines have a compound vulnerability to heatwaves. Its position as part of Southeast Asia, with high temperatures and humidity already being the norm, and the 7641 islands that make up the country are especially susceptible to climate change. Challenges in exposition, vulnerability, and adaptability to climate made the Philippines become the country with highest extreme weather disaster-related risk in the world according to the 2022 World Risk Report. Additionally, about 40% of the Philippine’s population lives in cities, and rapid urbanization is expected to continue as “drought and low farm productivity” drive migrants into cities. The consequences of heatwaves to these residents will be profound, and call for new methods to better understand their behaviors and propose better mitigation strategies. This intersects with the high inequality found in Filipino cities: in the first semester of 2021, driven by the Covid-19 pandemic, 23.7% of the country’s overall population was considered poor. Studies have shown strong correlation between poverty and vulnerability to heatwaves, and low-income housing has poor thermal performance and high thermal discomfort levels across the globe. Even without taking into consideration socioeconomic status, a vast majority of Filipinos experience heat stress severely (as self-reported), and this increases with population density.\n",
    "\n",
    "The serious consequences are already being felt, with recent months showcasing extreme temperatures. In April 2023, for example, dangerous heat was observed throughout the country.\n",
    "\n",
    "In this notebook, we visualize the areas within Filipino cities that are adversely impacted by heat using multiple data sources, and try to understand some of the aspects that have led to this upending crisis.\n",
    "\n",
    "A special thank you to the Philippine Atmospheric, Geophysical and Astronomical Services Administration (PAGASA), which kindly provided us with their data and was very helpful."
   ]
  },
  {
   "cell_type": "markdown",
   "metadata": {},
   "source": [
    "## Visualizing Population"
   ]
  },
  {
   "cell_type": "markdown",
   "metadata": {},
   "source": [
    "Read the shapefiles for Philippines"
   ]
  },
  {
   "cell_type": "code",
   "execution_count": null,
   "metadata": {},
   "outputs": [],
   "source": [
    "PHILIPPINES  = geopandas.read_file('../../data/shapefiles/philippines/phl_adminboundaries_candidate_exclude_adm3/phl_admbnda_adm1_psa_namria_20200529.shp')\n",
    "MANILA = PHILIPPINES[PHILIPPINES['ADM2_EN'].isin(['National Capital Region'])]\n",
    "PHILIPPINES_ADM3 = geopandas.read_file('../../data/shapefiles/philippines/phl_adminboundaries_candidate_adm3/phl_admbnda_adm3_psa_namria_20200529.shp')\n",
    "DAVAO = PHILIPPINES_ADM3[PHILIPPINES_ADM3['ADM3_EN'].isin(['Davao City'])]\n",
    "ZAMBOANGA = PHILIPPINES_ADM3[PHILIPPINES_ADM3['ADM3_EN'].isin(['Zamboanga City'])]\n",
    "CEBU = PHILIPPINES_ADM3[PHILIPPINES_ADM3['ADM3_EN'].isin(['Cebu City'])]"
   ]
  },
  {
   "cell_type": "markdown",
   "metadata": {},
   "source": [
    "Read population data for the Philippines"
   ]
  },
  {
   "cell_type": "code",
   "execution_count": null,
   "metadata": {},
   "outputs": [],
   "source": [
    "import dask.dataframe as dd\n",
    "import dask_geopandas as dg\n",
    "population = pd.read_csv('../../data/population/phl_general_2020.csv')\n",
    "#population_dg = dg.from_dask_dataframe(population)"
   ]
  },
  {
   "cell_type": "code",
   "execution_count": null,
   "metadata": {},
   "outputs": [],
   "source": [
    "import geopandas as gpd\n",
    "geometry = gpd.points_from_xy(population['longitude'], population['latitude'])\n",
    "population_gdf = geopandas.GeoDataFrame(population, geometry=geometry)"
   ]
  },
  {
   "cell_type": "code",
   "execution_count": null,
   "metadata": {},
   "outputs": [],
   "source": [
    "population_adm3 = PHILIPPINES_ADM3.sjoin(population_gdf)\n"
   ]
  },
  {
   "cell_type": "code",
   "execution_count": null,
   "metadata": {},
   "outputs": [],
   "source": [
    "population_adm3 = population_adm3[['ADM3_EN', 'phl_general_2020']].groupby(['ADM3_EN']).sum().reset_index()\n",
    "population_adm1 = population_adm2[['ADM1_EN', 'phl_general_2020']].groupby(['ADM1_EN']).sum().reset_index()"
   ]
  },
  {
   "cell_type": "code",
   "execution_count": null,
   "metadata": {},
   "outputs": [],
   "source": [
    "PHILIPPINES_ADM3 = PHILIPPINES_ADM3.merge(population_adm3, on = 'ADM3_EN')"
   ]
  },
  {
   "cell_type": "code",
   "execution_count": null,
   "metadata": {},
   "outputs": [],
   "source": [
    "PHILIPPINES_ADM1 = PHILIPPINES.merge(population_adm1, on = 'ADM1_EN')"
   ]
  },
  {
   "cell_type": "code",
   "execution_count": null,
   "metadata": {},
   "outputs": [],
   "source": [
    "#PHILIPPINES_ADM3"
   ]
  },
  {
   "cell_type": "code",
   "execution_count": null,
   "metadata": {},
   "outputs": [],
   "source": [
    "import matplotlib.pyplot as plt\n",
    "\n",
    "fig, ax = plt.subplots(figsize=(12,6))\n",
    "plt.rcParams[\"font.family\"] = \"cursive\"\n",
    "\n",
    "PHILIPPINES_ADM2.plot(column='phl_general_2020', legend = True, ax=ax)\n",
    "\n",
    "ax.spines['top'].set_visible(False)\n",
    "ax.spines['bottom'].set_visible(False)\n",
    "ax.spines['right'].set_visible(False)\n",
    "ax.spines['left'].set_visible(False)\n",
    "\n",
    "ax.set_xticks([])\n",
    "ax.set_yticks([])"
   ]
  },
  {
   "cell_type": "code",
   "execution_count": null,
   "metadata": {},
   "outputs": [],
   "source": [
    "PHILIPPINES_ADM1.to_file('../../data/population/phl_adm1.geojson')"
   ]
  },
  {
   "cell_type": "markdown",
   "metadata": {},
   "source": [
    "## Historical Heatwave Analysis"
   ]
  },
  {
   "cell_type": "markdown",
   "metadata": {},
   "source": [
    "In this notebook, we will explore heatwaves incidence, based on [pre-calculated data](https://worldbankgroup.sharepoint.com.mcas.ms/teams/DevelopmentDataPartnershipCommunity-WBGroup/Shared%20Documents/Forms/AllItems.aspx?csf=1&web=1&e=Yvwh8r&cid=fccdf23e%2D94d5%2D48bf%2Db75d%2D0af291138bde&FolderCTID=0x012000CFAB9FF0F938A64EBB297E7E16BDFCFD&id=%2Fteams%2FDevelopmentDataPartnershipCommunity%2DWBGroup%2FShared%20Documents%2FProjects%2FHeatwaves%20Data%20Collaborative%2FData%2Fremotesensing%2Fhwdi%5F5degC&viewid=80cdadb3%2D8bb3%2D47ae%2D8b18%2Dc1dd89c373c5) obtained from NASA's [GLDAS](https://ldas.gsfc.nasa.gov/gldas). \n",
    "\n",
    "First, let's take a look at the \"ds_mean2\" data, which comes from the Heatwave Duration Index (HWDI). In it, a heatwave is defined as 2 consecutive days where the mean temperature is more than 5 degrees of the mean temperature of the baseline from 1948 to 2014.\n"
   ]
  },
  {
   "cell_type": "code",
   "execution_count": null,
   "metadata": {},
   "outputs": [],
   "source": [
    "# parallel ensures that it is being parallel processed\n",
    "ds_mean2_gldas=xr.open_mfdataset(\"../../data/gldas/ymean2/wld_cli_*.nc4\", parallel = True)"
   ]
  },
  {
   "cell_type": "markdown",
   "metadata": {},
   "source": [
    "Now let's take a look at how the Philippines have fared under recent years"
   ]
  },
  {
   "cell_type": "code",
   "execution_count": null,
   "metadata": {},
   "outputs": [],
   "source": [
    "def clip_area(ds, area):\n",
    "\n",
    "    ds.rio.write_crs(\"EPSG:4326\", inplace=True)\n",
    "    clipped_area = ds.rio.clip(area.geometry.values,all_touched=True, drop=True)\n",
    "\n",
    "    return clipped_area"
   ]
  },
  {
   "cell_type": "code",
   "execution_count": null,
   "metadata": {
    "scrolled": true
   },
   "outputs": [],
   "source": [
    "clipped_phil=clip_area(ds_mean2_gldas, PHILIPPINES)\n",
    "clipped_phil"
   ]
  },
  {
   "cell_type": "code",
   "execution_count": null,
   "metadata": {},
   "outputs": [],
   "source": [
    "clipped_phil.to_dataframe().groupby(['time']).mean().reset_index().plot(x='time',y='heat_waves_per_time_period')\n",
    "#clipped_phil.to_dataframe().groupby(['time']).mean().reset_index().plot(x='time',y='heat_wave_duration_index_wrt_mean_of_reference_period')"
   ]
  },
  {
   "cell_type": "markdown",
   "metadata": {},
   "source": [
    "### National Capital Region"
   ]
  },
  {
   "cell_type": "code",
   "execution_count": null,
   "metadata": {},
   "outputs": [],
   "source": [
    "clipped_ncr=clip_area(ds_mean2_gldas,MANILA)\n",
    "ncr_mean2=clipped_ncr.to_dataframe().groupby(['time']).mean().reset_index()\n",
    "ncr_mean2.plot(x='time',y='heat_waves_per_time_period')"
   ]
  },
  {
   "cell_type": "markdown",
   "metadata": {},
   "source": [
    "### Cebu City"
   ]
  },
  {
   "cell_type": "code",
   "execution_count": null,
   "metadata": {},
   "outputs": [],
   "source": [
    "clipped_cebu=clip_area(ds_mean2_gldas, CEBU)\n",
    "clipped_cebu.to_dataframe().groupby(['time']).mean().reset_index().plot(x='time',y='heat_waves_per_time_period')"
   ]
  },
  {
   "cell_type": "markdown",
   "metadata": {},
   "source": [
    "There is no data recorded for the region, showcasing a probable weakness in the ds_mean2 data"
   ]
  },
  {
   "cell_type": "markdown",
   "metadata": {},
   "source": [
    "### Zamboanga City"
   ]
  },
  {
   "cell_type": "code",
   "execution_count": null,
   "metadata": {},
   "outputs": [],
   "source": [
    "clipped_zamb=clip_area(ds_mean2_gldas, ZAMBOANGA)\n",
    "clipped_zamb.to_dataframe().groupby(['time']).mean().reset_index().plot(x='time',y='heat_waves_per_time_period')"
   ]
  },
  {
   "cell_type": "markdown",
   "metadata": {},
   "source": [
    "### Davao City"
   ]
  },
  {
   "cell_type": "code",
   "execution_count": null,
   "metadata": {},
   "outputs": [],
   "source": [
    "clipped_davao=clip_area(ds_mean2_gldas, DAVAO)\n",
    "clipped_davao.to_dataframe().groupby(['time']).mean().reset_index().plot(x='time',y='heat_waves_per_time_period')"
   ]
  },
  {
   "cell_type": "markdown",
   "metadata": {},
   "source": [
    "It appears the \"ds_mean2\" definition is not particularly relevant and does not include complete data, since most of the provinces observed do not have heatwaves before 2010 in this dataset, which seems incredibly unlikely."
   ]
  },
  {
   "cell_type": "markdown",
   "metadata": {},
   "source": [
    "## Historical Heat Index Analysis"
   ]
  },
  {
   "cell_type": "code",
   "execution_count": null,
   "metadata": {},
   "outputs": [],
   "source": [
    "def add_city_name(df, city_name):\n",
    "    df['city'] = city_name\n",
    "\n",
    "    return df"
   ]
  },
  {
   "cell_type": "code",
   "execution_count": null,
   "metadata": {},
   "outputs": [],
   "source": [
    "manila_heatindex = add_city_name(pd.read_csv('../../data/gldas/heatindex/manila_heat_index_daily.csv'), 'Manila')\n",
    "davao_heatindex = add_city_name(pd.read_csv('../../data/gldas/heatindex/davao_heat_index_daily.csv'), 'Davao')\n",
    "zamboanga_heatindex = add_city_name(pd.read_csv('../../data/gldas/heatindex/zamboanga_heat_index_daily.csv'), 'Zamboanga')\n",
    "cebu_heatindex = add_city_name(pd.read_csv('../../data/gldas/heatindex/cebu_heat_index_daily.csv'), 'Cebu')"
   ]
  },
  {
   "cell_type": "code",
   "execution_count": null,
   "metadata": {},
   "outputs": [],
   "source": [
    "# phl_cities_hwdi_mean2 = pd.concat([manila_hwdi_mean2, zamboanga_hwdi_mean2, davao_hwdi_mean2, cebu_hwdi_mean2])\n",
    "phl_cities_heatindex = pd.concat([manila_heatindex, zamboanga_heatindex, davao_heatindex, cebu_heatindex])"
   ]
  },
  {
   "cell_type": "code",
   "execution_count": null,
   "metadata": {},
   "outputs": [],
   "source": [
    "from datetime import datetime\n",
    "phl_cities_heatindex['time'] = phl_cities_heatindex['time'].apply(lambda x: datetime.strptime(x, '%Y-%m-%d %H:%M:%S'))"
   ]
  },
  {
   "cell_type": "code",
   "execution_count": null,
   "metadata": {},
   "outputs": [],
   "source": [
    "phl_cities_heatindex_year = phl_cities_heatindex[['city', 'time', 'heat_index']].groupby([pd.Grouper(key='time', freq='Y'), 'city']).agg({'mean', 'max', 'min'}).reset_index()\n",
    "phl_cities_heatindex_year.set_index(['time', 'city'], inplace=True)\n",
    "phl_cities_heatindex_year.columns = phl_cities_heatindex_year.columns.droplevel(0)\n",
    "phl_cities_heatindex_year.reset_index(inplace=True)"
   ]
  },
  {
   "cell_type": "code",
   "execution_count": null,
   "metadata": {},
   "outputs": [],
   "source": [
    "phl_cities_heatindex_month = phl_cities_heatindex[['city', 'time', 'heat_index']].groupby([pd.Grouper(key='time', freq='M'), 'city']).agg({'mean', 'max', 'min'}).reset_index()\n",
    "phl_cities_heatindex_month.set_index(['time', 'city'], inplace=True)\n",
    "phl_cities_heatindex_month.columns = phl_cities_heatindex_month.columns.droplevel(0)"
   ]
  },
  {
   "cell_type": "code",
   "execution_count": null,
   "metadata": {},
   "outputs": [],
   "source": [
    "output_notebook()\n",
    "phl_cities_heatindex_month.reset_index(inplace=True)\n",
    "show(get_line_plot(phl_cities_heatindex_month, measure = 'max', title = 'Max Heat Index Per Month', subtitle = 'Heat index is calculated using both temperature and relative humidity', source= 'GLDAS data with analysis from the Data Lab, World Bank'))"
   ]
  },
  {
   "cell_type": "markdown",
   "metadata": {},
   "source": [
    "## tomorrow.io Granular Heat Index Analysis"
   ]
  },
  {
   "cell_type": "markdown",
   "metadata": {},
   "source": [
    "is there a way to embed the foursquare into here?\n",
    "https://studio.foursquare.com/map/0b43c93d-427b-4534-8d47-8dcf0676b0f2"
   ]
  },
  {
   "cell_type": "markdown",
   "metadata": {},
   "source": [
    "## Data from PAGASA Comparison"
   ]
  },
  {
   "cell_type": "markdown",
   "metadata": {},
   "source": [
    "In order to get more comparison points, we reached out to the Philippine Atmospheric, Geophysical and Astronomical Services Administration (PAGASA)."
   ]
  },
  {
   "cell_type": "code",
   "execution_count": 5,
   "metadata": {
    "scrolled": true
   },
   "outputs": [],
   "source": [
    "pag_dav = pd.read_csv(\"/Users/anandafigueiredo/GitHub/Not Pushed Yet/HeatIndex_March-June2023/HI_dailyaverage-March-June 2023/heat index_daily_mean_Davao City, Davao Del Sur_dailyaverage.csv\")\n",
    "pag_cebu = pd.read_csv(\"/Users/anandafigueiredo/GitHub/Not Pushed Yet/HeatIndex_March-June2023/HI_dailyaverage-March-June 2023/heat index_daily_mean_Mactan International Airport, Cebu_dailyaverage.csv\")\n",
    "pag_pasay = pd.read_csv(\"/Users/anandafigueiredo/GitHub/Not Pushed Yet/HeatIndex_March-June2023/HI_dailyaverage-March-June 2023/heat index_daily_mean_NAIA Pasay City, M.Manila_dailyaverage.csv\")\n",
    "pag_port = pd.read_csv('/Users/anandafigueiredo/GitHub/Not Pushed Yet/HeatIndex_March-June2023/HI_dailyaverage-March-June 2023/heat index_daily_mean_Port Area, Manila_dailyaverage.csv')\n",
    "pag_quezon = pd.read_csv('/Users/anandafigueiredo/GitHub/Not Pushed Yet/HeatIndex_March-June2023/HI_dailyaverage-March-June 2023/heat index_daily_mean_Science Garden Quezon City, Metro Manila_dailyaverage.csv')\n",
    "pag_zamb = pd.read_csv('/Users/anandafigueiredo/GitHub/Not Pushed Yet/HeatIndex_March-June2023/HI_dailyaverage-March-June 2023/heat index_daily_mean_Zamboanga City, Zamboanga Del Sur_dailyaverage.csv')"
   ]
  },
  {
   "cell_type": "code",
   "execution_count": 56,
   "metadata": {},
   "outputs": [],
   "source": [
    "pag_dav = pd.read_csv(\"/Users/anandafigueiredo/GitHub/Not Pushed Yet/HeatIndex_March-June2023/HI_dailymaximum-March-June 2023/heat index_daily_max_Davao City, Davao Del Sur_dailymax.csv\")\n",
    "pag_cebu = pd.read_csv(\"/Users/anandafigueiredo/GitHub/Not Pushed Yet/HeatIndex_March-June2023/HI_dailymaximum-March-June 2023/heat index_daily_max_Mactan International Airport, Cebu_dailymax.csv\")\n",
    "pag_pasay = pd.read_csv(\"/Users/anandafigueiredo/GitHub/Not Pushed Yet/HeatIndex_March-June2023/HI_dailymaximum-March-June 2023/heat index_daily_max_NAIA Pasay City, M.Manila_dailymax.csv\")\n",
    "pag_port = pd.read_csv('/Users/anandafigueiredo/GitHub/Not Pushed Yet/HeatIndex_March-June2023/HI_dailymaximum-March-June 2023/heat index_daily_max_Port Area, Manila_dailymax.csv')\n",
    "pag_quezon = pd.read_csv('/Users/anandafigueiredo/GitHub/Not Pushed Yet/HeatIndex_March-June2023/HI_dailymaximum-March-June 2023/heat index_daily_max_Science Garden Quezon City, Metro Manila_dailymax.csv')\n",
    "pag_zamb = pd.read_csv('/Users/anandafigueiredo/GitHub/Not Pushed Yet/HeatIndex_March-June2023/HI_dailymaximum-March-June 2023/heat index_daily_max_Zamboanga City, Zamboanga Del Sur_dailymax.csv')"
   ]
  },
  {
   "cell_type": "code",
   "execution_count": 57,
   "metadata": {
    "scrolled": true
   },
   "outputs": [
    {
     "data": {
      "text/plain": [
       "Text(0.5, 1.0, 'Heat Index in Deg Celsius for five different points of PHL')"
      ]
     },
     "execution_count": 57,
     "metadata": {},
     "output_type": "execute_result"
    },
    {
     "data": {
      "image/png": "[encoded data removed]",
      "text/plain": [
       "<Figure size 864x432 with 1 Axes>"
      ]
     },
     "metadata": {
      "needs_background": "light"
     },
     "output_type": "display_data"
    }
   ],
   "source": [
    "fig, ax = plt.subplots(1, 1, sharex=True, sharey=True, figsize=(12, 6))\n",
    "\n",
    "# pag_dav.plot(ax=ax, x='Date', y='Average Heat Index', label='Davao del Sur')\n",
    "# pag_cebu.plot(ax=ax, x='Date', y='Average Heat Index', label='Cebu')\n",
    "pag_pasay.plot(ax=ax, x='Date', y='Maximum Heat Index', label='Pasay City, NCR')\n",
    "pag_port.plot(ax=ax, x='Date', y='Maximum Heat Index', label='Port Area, NCR')\n",
    "pag_quezon.plot(ax=ax, x='Date', y='Maximum Heat Index', label='Quezon City, NCR')\n",
    "# pag_zamb.plot(ax=ax, x='Date', y='Average Heat Index', label='Zamboanga City')\n",
    "\n",
    "plt.title(\"Heat Index in Deg Celsius for five different points of PHL\")"
   ]
  },
  {
   "cell_type": "markdown",
   "metadata": {},
   "source": [
    "Most \"famous\" HW was in late April, but the one in late May/early June seems to have been even more impactful for NCR"
   ]
  },
  {
   "cell_type": "markdown",
   "metadata": {},
   "source": [
    "Appending the coordinates of weather stations to the data that PAGASA also kindly provided"
   ]
  },
  {
   "cell_type": "code",
   "execution_count": 58,
   "metadata": {},
   "outputs": [],
   "source": [
    "#Pasay\n",
    "pag_pasay['lat'] = 14.5047\n",
    "pag_pasay['lon'] = 121.0167\n",
    "\n",
    "#Quezon\n",
    "pag_quezon['lat'] = 14.6451\n",
    "pag_quezon['lon'] = 121.0419\n",
    "\n",
    "#Port Area, Manila\n",
    "pag_port['lat'] = 14.5884\n",
    "pag_port['lon'] = 120.9679\n",
    "\n",
    "#Cebu\n",
    "pag_cebu['lat'] = 10.3223\n",
    "pag_cebu['lon'] = 123.963\n",
    "\n",
    "#Davao \n",
    "pag_dav['lat'] = 7.1277\n",
    "pag_dav['lon'] = 125.655\n",
    "\n",
    "#Zamboanga City\n",
    "pag_zamb['lat'] = 6.9171\n",
    "pag_zamb['lon'] = 122.0663"
   ]
  },
  {
   "cell_type": "code",
   "execution_count": 60,
   "metadata": {},
   "outputs": [
    {
     "ename": "type",
     "evalue": "time data '1/3/23' does not match format '%d/%m/%Y'",
     "output_type": "error",
     "traceback": [
      "\u001b[0;31m---------------------------------------------------------------------------\u001b[0m",
      "\u001b[0;31mValueError\u001b[0m                                Traceback (most recent call last)",
      "Cell \u001b[0;32mIn[60], line 5\u001b[0m\n\u001b[1;32m      2\u001b[0m \u001b[38;5;28;01mfrom\u001b[39;00m \u001b[38;5;21;01mdatetime\u001b[39;00m \u001b[38;5;28;01mimport\u001b[39;00m datetime\n\u001b[1;32m      4\u001b[0m \u001b[38;5;66;03m#pag_pasay['Date'] = pag_pasay['Date'].apply(lambda x: datetime.strptime(x,'%d/%m/%Y'))\u001b[39;00m\n\u001b[0;32m----> 5\u001b[0m pag_quezon[\u001b[38;5;124m'\u001b[39m\u001b[38;5;124mDate\u001b[39m\u001b[38;5;124m'\u001b[39m] \u001b[38;5;241m=\u001b[39m pag_quezon[\u001b[38;5;124m'\u001b[39m\u001b[38;5;124mDate\u001b[39m\u001b[38;5;124m'\u001b[39m]\u001b[38;5;241m.\u001b[39mapply(\u001b[38;5;28;01mlambda\u001b[39;00m x: datetime\u001b[38;5;241m.\u001b[39mstrptime(x,\u001b[38;5;124m'\u001b[39m\u001b[38;5;132;01m%d\u001b[39;00m\u001b[38;5;124m/\u001b[39m\u001b[38;5;124m%\u001b[39m\u001b[38;5;124mm/\u001b[39m\u001b[38;5;124m%\u001b[39m\u001b[38;5;124mY\u001b[39m\u001b[38;5;124m'\u001b[39m))\n",
      "File \u001b[0;32m~/opt/miniconda3/envs/plotting/lib/python3.11/site-packages/pandas/core/series.py:4630\u001b[0m, in \u001b[0;36mSeries.apply\u001b[0;34m(self, func, convert_dtype, args, **kwargs)\u001b[0m\n\u001b[1;32m   4520\u001b[0m \u001b[38;5;28;01mdef\u001b[39;00m \u001b[38;5;21mapply\u001b[39m(\n\u001b[1;32m   4521\u001b[0m     \u001b[38;5;28mself\u001b[39m,\n\u001b[1;32m   4522\u001b[0m     func: AggFuncType,\n\u001b[0;32m   (...)\u001b[0m\n\u001b[1;32m   4525\u001b[0m     \u001b[38;5;241m*\u001b[39m\u001b[38;5;241m*\u001b[39mkwargs,\n\u001b[1;32m   4526\u001b[0m ) \u001b[38;5;241m-\u001b[39m\u001b[38;5;241m>\u001b[39m DataFrame \u001b[38;5;241m|\u001b[39m Series:\n\u001b[1;32m   4527\u001b[0m     \u001b[38;5;124;03m\"\"\"\u001b[39;00m\n\u001b[1;32m   4528\u001b[0m \u001b[38;5;124;03m    Invoke function on values of Series.\u001b[39;00m\n\u001b[1;32m   4529\u001b[0m \n\u001b[0;32m   (...)\u001b[0m\n\u001b[1;32m   4628\u001b[0m \u001b[38;5;124;03m    dtype: float64\u001b[39;00m\n\u001b[1;32m   4629\u001b[0m \u001b[38;5;124;03m    \"\"\"\u001b[39;00m\n\u001b[0;32m-> 4630\u001b[0m     \u001b[38;5;28;01mreturn\u001b[39;00m SeriesApply(\u001b[38;5;28mself\u001b[39m, func, convert_dtype, args, kwargs)\u001b[38;5;241m.\u001b[39mapply()\n",
      "File \u001b[0;32m~/opt/miniconda3/envs/plotting/lib/python3.11/site-packages/pandas/core/apply.py:1025\u001b[0m, in \u001b[0;36mSeriesApply.apply\u001b[0;34m(self)\u001b[0m\n\u001b[1;32m   1022\u001b[0m     \u001b[38;5;28;01mreturn\u001b[39;00m \u001b[38;5;28mself\u001b[39m\u001b[38;5;241m.\u001b[39mapply_str()\n\u001b[1;32m   1024\u001b[0m \u001b[38;5;66;03m# self.f is Callable\u001b[39;00m\n\u001b[0;32m-> 1025\u001b[0m \u001b[38;5;28;01mreturn\u001b[39;00m \u001b[38;5;28mself\u001b[39m\u001b[38;5;241m.\u001b[39mapply_standard()\n",
      "File \u001b[0;32m~/opt/miniconda3/envs/plotting/lib/python3.11/site-packages/pandas/core/apply.py:1076\u001b[0m, in \u001b[0;36mSeriesApply.apply_standard\u001b[0;34m(self)\u001b[0m\n\u001b[1;32m   1074\u001b[0m     \u001b[38;5;28;01melse\u001b[39;00m:\n\u001b[1;32m   1075\u001b[0m         values \u001b[38;5;241m=\u001b[39m obj\u001b[38;5;241m.\u001b[39mastype(\u001b[38;5;28mobject\u001b[39m)\u001b[38;5;241m.\u001b[39m_values\n\u001b[0;32m-> 1076\u001b[0m         mapped \u001b[38;5;241m=\u001b[39m lib\u001b[38;5;241m.\u001b[39mmap_infer(\n\u001b[1;32m   1077\u001b[0m             values,\n\u001b[1;32m   1078\u001b[0m             f,\n\u001b[1;32m   1079\u001b[0m             convert\u001b[38;5;241m=\u001b[39m\u001b[38;5;28mself\u001b[39m\u001b[38;5;241m.\u001b[39mconvert_dtype,\n\u001b[1;32m   1080\u001b[0m         )\n\u001b[1;32m   1082\u001b[0m \u001b[38;5;28;01mif\u001b[39;00m \u001b[38;5;28mlen\u001b[39m(mapped) \u001b[38;5;129;01mand\u001b[39;00m \u001b[38;5;28misinstance\u001b[39m(mapped[\u001b[38;5;241m0\u001b[39m], ABCSeries):\n\u001b[1;32m   1083\u001b[0m     \u001b[38;5;66;03m# GH#43986 Need to do list(mapped) in order to get treated as nested\u001b[39;00m\n\u001b[1;32m   1084\u001b[0m     \u001b[38;5;66;03m#  See also GH#25959 regarding EA support\u001b[39;00m\n\u001b[1;32m   1085\u001b[0m     \u001b[38;5;28;01mreturn\u001b[39;00m obj\u001b[38;5;241m.\u001b[39m_constructor_expanddim(\u001b[38;5;28mlist\u001b[39m(mapped), index\u001b[38;5;241m=\u001b[39mobj\u001b[38;5;241m.\u001b[39mindex)\n",
      "File \u001b[0;32m~/opt/miniconda3/envs/plotting/lib/python3.11/site-packages/pandas/_libs/lib.pyx:2834\u001b[0m, in \u001b[0;36mpandas._libs.lib.map_infer\u001b[0;34m()\u001b[0m\n",
      "Cell \u001b[0;32mIn[60], line 5\u001b[0m, in \u001b[0;36m<lambda>\u001b[0;34m(x)\u001b[0m\n\u001b[1;32m      2\u001b[0m \u001b[38;5;28;01mfrom\u001b[39;00m \u001b[38;5;21;01mdatetime\u001b[39;00m \u001b[38;5;28;01mimport\u001b[39;00m datetime\n\u001b[1;32m      4\u001b[0m \u001b[38;5;66;03m#pag_pasay['Date'] = pag_pasay['Date'].apply(lambda x: datetime.strptime(x,'%d/%m/%Y'))\u001b[39;00m\n\u001b[0;32m----> 5\u001b[0m pag_quezon[\u001b[38;5;124m'\u001b[39m\u001b[38;5;124mDate\u001b[39m\u001b[38;5;124m'\u001b[39m] \u001b[38;5;241m=\u001b[39m pag_quezon[\u001b[38;5;124m'\u001b[39m\u001b[38;5;124mDate\u001b[39m\u001b[38;5;124m'\u001b[39m]\u001b[38;5;241m.\u001b[39mapply(\u001b[38;5;28;01mlambda\u001b[39;00m x: datetime\u001b[38;5;241m.\u001b[39mstrptime(x,\u001b[38;5;124m'\u001b[39m\u001b[38;5;132;01m%d\u001b[39;00m\u001b[38;5;124m/\u001b[39m\u001b[38;5;124m%\u001b[39m\u001b[38;5;124mm/\u001b[39m\u001b[38;5;124m%\u001b[39m\u001b[38;5;124mY\u001b[39m\u001b[38;5;124m'\u001b[39m))\n",
      "File \u001b[0;32m~/opt/miniconda3/envs/plotting/lib/python3.11/_strptime.py:568\u001b[0m, in \u001b[0;36m_strptime_datetime\u001b[0;34m(cls, data_string, format)\u001b[0m\n\u001b[1;32m    565\u001b[0m \u001b[38;5;28;01mdef\u001b[39;00m \u001b[38;5;21m_strptime_datetime\u001b[39m(\u001b[38;5;28mcls\u001b[39m, data_string, \u001b[38;5;28mformat\u001b[39m\u001b[38;5;241m=\u001b[39m\u001b[38;5;124m\"\u001b[39m\u001b[38;5;132;01m%a\u001b[39;00m\u001b[38;5;124m \u001b[39m\u001b[38;5;124m%\u001b[39m\u001b[38;5;124mb \u001b[39m\u001b[38;5;132;01m%d\u001b[39;00m\u001b[38;5;124m \u001b[39m\u001b[38;5;124m%\u001b[39m\u001b[38;5;124mH:\u001b[39m\u001b[38;5;124m%\u001b[39m\u001b[38;5;124mM:\u001b[39m\u001b[38;5;124m%\u001b[39m\u001b[38;5;124mS \u001b[39m\u001b[38;5;124m%\u001b[39m\u001b[38;5;124mY\u001b[39m\u001b[38;5;124m\"\u001b[39m):\n\u001b[1;32m    566\u001b[0m     \u001b[38;5;124;03m\"\"\"Return a class cls instance based on the input string and the\u001b[39;00m\n\u001b[1;32m    567\u001b[0m \u001b[38;5;124;03m    format string.\"\"\"\u001b[39;00m\n\u001b[0;32m--> 568\u001b[0m     tt, fraction, gmtoff_fraction \u001b[38;5;241m=\u001b[39m _strptime(data_string, \u001b[38;5;28mformat\u001b[39m)\n\u001b[1;32m    569\u001b[0m     tzname, gmtoff \u001b[38;5;241m=\u001b[39m tt[\u001b[38;5;241m-\u001b[39m\u001b[38;5;241m2\u001b[39m:]\n\u001b[1;32m    570\u001b[0m     args \u001b[38;5;241m=\u001b[39m tt[:\u001b[38;5;241m6\u001b[39m] \u001b[38;5;241m+\u001b[39m (fraction,)\n",
      "File \u001b[0;32m~/opt/miniconda3/envs/plotting/lib/python3.11/_strptime.py:349\u001b[0m, in \u001b[0;36m_strptime\u001b[0;34m(data_string, format)\u001b[0m\n\u001b[1;32m    347\u001b[0m found \u001b[38;5;241m=\u001b[39m format_regex\u001b[38;5;241m.\u001b[39mmatch(data_string)\n\u001b[1;32m    348\u001b[0m \u001b[38;5;28;01mif\u001b[39;00m \u001b[38;5;129;01mnot\u001b[39;00m found:\n\u001b[0;32m--> 349\u001b[0m     \u001b[38;5;28;01mraise\u001b[39;00m \u001b[38;5;167;01mValueError\u001b[39;00m(\u001b[38;5;124m\"\u001b[39m\u001b[38;5;124mtime data \u001b[39m\u001b[38;5;132;01m%r\u001b[39;00m\u001b[38;5;124m does not match format \u001b[39m\u001b[38;5;132;01m%r\u001b[39;00m\u001b[38;5;124m\"\u001b[39m \u001b[38;5;241m%\u001b[39m\n\u001b[1;32m    350\u001b[0m                      (data_string, \u001b[38;5;28mformat\u001b[39m))\n\u001b[1;32m    351\u001b[0m \u001b[38;5;28;01mif\u001b[39;00m \u001b[38;5;28mlen\u001b[39m(data_string) \u001b[38;5;241m!=\u001b[39m found\u001b[38;5;241m.\u001b[39mend():\n\u001b[1;32m    352\u001b[0m     \u001b[38;5;28;01mraise\u001b[39;00m \u001b[38;5;167;01mValueError\u001b[39;00m(\u001b[38;5;124m\"\u001b[39m\u001b[38;5;124munconverted data remains: \u001b[39m\u001b[38;5;132;01m%s\u001b[39;00m\u001b[38;5;124m\"\u001b[39m \u001b[38;5;241m%\u001b[39m\n\u001b[1;32m    353\u001b[0m                       data_string[found\u001b[38;5;241m.\u001b[39mend():])\n",
      "\u001b[0;31mValueError\u001b[0m: time data '1/3/23' does not match format '%d/%m/%Y'"
     ]
    }
   ],
   "source": [
    "# Converting time to DateTime\n",
    "from datetime import datetime\n",
    "\n",
    "#pag_pasay['Date'] = pag_pasay['Date'].apply(lambda x: datetime.strptime(x,'%d/%m/%Y'))\n",
    "pag_quezon['Date'] = pag_quezon['Date'].apply(lambda x: datetime.strptime(x,'%d/%m/%Y'))\n",
    "# pag_port['Date'] = pag_port['Date'].apply(lambda x: datetime.strptime(x,'%d/%m/%Y'))\n",
    "# pag_cebu['Date'] = pag_cebu['Date'].apply(lambda x: datetime.strptime(x,'%d/%m/%Y'))\n",
    "# pag_dav['Date'] = pag_dav['Date'].apply(lambda x: datetime.strptime(x,'%d/%m/%Y'))\n",
    "# pag_zamb['Date'] = pag_zamb['Date'].apply(lambda x: datetime.strptime(x,'%d/%m/%Y'))"
   ]
  },
  {
   "cell_type": "markdown",
   "metadata": {},
   "source": [
    "Creating GeoDataFrame objects from the data of different parts of the PHL"
   ]
  },
  {
   "cell_type": "code",
   "execution_count": 53,
   "metadata": {},
   "outputs": [],
   "source": [
    "geometry = geopandas.points_from_xy(pag_pasay.lon, pag_pasay.lat, crs=\"EPSG:4326\")\n",
    "gdf_pasay = geopandas.GeoDataFrame(pag_pasay, geometry=geometry)\n",
    "\n",
    "geometry1 = geopandas.points_from_xy(pag_quezon.lon, pag_quezon.lat, crs=\"EPSG:4326\")\n",
    "gdf_quezon = geopandas.GeoDataFrame(pag_quezon, geometry=geometry1)\n",
    "\n",
    "geometry2 = geopandas.points_from_xy(pag_port.lon, pag_port.lat, crs=\"EPSG:4326\")\n",
    "gdf_port = geopandas.GeoDataFrame(pag_port, geometry=geometry2)\n",
    "\n",
    "geometry3 = geopandas.points_from_xy(pag_cebu.lon, pag_cebu.lat, crs=\"EPSG:4326\")\n",
    "gdf_cebu = geopandas.GeoDataFrame(pag_cebu, geometry=geometry3)\n",
    "\n",
    "geometry4 = geopandas.points_from_xy(pag_dav.lon, pag_dav.lat, crs=\"EPSG:4326\")\n",
    "gdf_davao = geopandas.GeoDataFrame(pag_dav, geometry=geometry4)\n",
    "\n",
    "geometry5 = geopandas.points_from_xy(pag_zamb.lon, pag_zamb.lat, crs=\"EPSG:4326\")\n",
    "gdf_zamb = geopandas.GeoDataFrame(pag_zamb, geometry=geometry5)"
   ]
  },
  {
   "cell_type": "code",
   "execution_count": 54,
   "metadata": {},
   "outputs": [],
   "source": [
    "# convert to geojson so we can open it on squarespace\n",
    "gdf_pasay.to_file('pag_pasay_max.geojson', driver=\"GeoJSON\")\n",
    "gdf_quezon.to_file('pag_quezon_max.geojson', driver=\"GeoJSON\")\n",
    "gdf_port.to_file('pag_port_max.geojson', driver=\"GeoJSON\")\n",
    "gdf_cebu.to_file('pag_cebu_max.geojson', driver=\"GeoJSON\")\n",
    "gdf_davao.to_file('pag_davao_max.geojson', driver=\"GeoJSON\")\n",
    "gdf_zamb.to_file('pag_zamb_max.geojson', driver=\"GeoJSON\")"
   ]
  },
  {
   "cell_type": "code",
   "execution_count": 9,
   "metadata": {},
   "outputs": [
    {
     "data": {
      "text/html": [
       "<div style=\"width:100%;\"><div style=\"position:relative;width:100%;height:0;padding-bottom:60%;\"><span style=\"color:#565656\">Make this Notebook Trusted to load map: File -> Trust Notebook</span><iframe srcdoc=\"&lt;!DOCTYPE html&gt;\n",
       "&lt;html&gt;\n",
       "&lt;head&gt;\n",
       "    \n",
       "    &lt;meta http-equiv=&quot;content-type&quot; content=&quot;text/html; charset=UTF-8&quot; /&gt;\n",
       "    \n",
       "        &lt;script&gt;\n",
       "            L_NO_TOUCH = false;\n",
       "            L_DISABLE_3D = false;\n",
       "        &lt;/script&gt;\n",
       "    \n",
       "    &lt;style&gt;html, body {width: 100%;height: 100%;margin: 0;padding: 0;}&lt;/style&gt;\n",
       "    &lt;style&gt;#map {position:absolute;top:0;bottom:0;right:0;left:0;}&lt;/style&gt;\n",
       "    &lt;script src=&quot;https://cdn.jsdelivr.net/npm/leaflet@1.9.3/dist/leaflet.js&quot;&gt;&lt;/script&gt;\n",
       "    &lt;script src=&quot;https://code.jquery.com/jquery-1.12.4.min.js&quot;&gt;&lt;/script&gt;\n",
       "    &lt;script src=&quot;https://cdn.jsdelivr.net/npm/bootstrap@5.2.2/dist/js/bootstrap.bundle.min.js&quot;&gt;&lt;/script&gt;\n",
       "    &lt;script src=&quot;https://cdnjs.cloudflare.com/ajax/libs/Leaflet.awesome-markers/2.0.2/leaflet.awesome-markers.js&quot;&gt;&lt;/script&gt;\n",
       "    &lt;link rel=&quot;stylesheet&quot; href=&quot;https://cdn.jsdelivr.net/npm/leaflet@1.9.3/dist/leaflet.css&quot;/&gt;\n",
       "    &lt;link rel=&quot;stylesheet&quot; href=&quot;https://cdn.jsdelivr.net/npm/bootstrap@5.2.2/dist/css/bootstrap.min.css&quot;/&gt;\n",
       "    &lt;link rel=&quot;stylesheet&quot; href=&quot;https://netdna.bootstrapcdn.com/bootstrap/3.0.0/css/bootstrap.min.css&quot;/&gt;\n",
       "    &lt;link rel=&quot;stylesheet&quot; href=&quot;https://cdn.jsdelivr.net/npm/@fortawesome/fontawesome-free@6.2.0/css/all.min.css&quot;/&gt;\n",
       "    &lt;link rel=&quot;stylesheet&quot; href=&quot;https://cdnjs.cloudflare.com/ajax/libs/Leaflet.awesome-markers/2.0.2/leaflet.awesome-markers.css&quot;/&gt;\n",
       "    &lt;link rel=&quot;stylesheet&quot; href=&quot;https://cdn.jsdelivr.net/gh/python-visualization/folium/folium/templates/leaflet.awesome.rotate.min.css&quot;/&gt;\n",
       "    \n",
       "            &lt;meta name=&quot;viewport&quot; content=&quot;width=device-width,\n",
       "                initial-scale=1.0, maximum-scale=1.0, user-scalable=no&quot; /&gt;\n",
       "            &lt;style&gt;\n",
       "                #map_fabfcc9b6dd659a6ab0687e221e3ed49 {\n",
       "                    position: relative;\n",
       "                    width: 100.0%;\n",
       "                    height: 100.0%;\n",
       "                    left: 0.0%;\n",
       "                    top: 0.0%;\n",
       "                }\n",
       "                .leaflet-container { font-size: 1rem; }\n",
       "            &lt;/style&gt;\n",
       "        \n",
       "    \n",
       "                    &lt;style&gt;\n",
       "                        .foliumtooltip {\n",
       "                            \n",
       "                        }\n",
       "                       .foliumtooltip table{\n",
       "                            margin: auto;\n",
       "                        }\n",
       "                        .foliumtooltip tr{\n",
       "                            text-align: left;\n",
       "                        }\n",
       "                        .foliumtooltip th{\n",
       "                            padding: 2px; padding-right: 8px;\n",
       "                        }\n",
       "                    &lt;/style&gt;\n",
       "            \n",
       "    \n",
       "                    &lt;style&gt;\n",
       "                        .foliumtooltip {\n",
       "                            \n",
       "                        }\n",
       "                       .foliumtooltip table{\n",
       "                            margin: auto;\n",
       "                        }\n",
       "                        .foliumtooltip tr{\n",
       "                            text-align: left;\n",
       "                        }\n",
       "                        .foliumtooltip th{\n",
       "                            padding: 2px; padding-right: 8px;\n",
       "                        }\n",
       "                    &lt;/style&gt;\n",
       "            \n",
       "    \n",
       "                    &lt;style&gt;\n",
       "                        .foliumtooltip {\n",
       "                            \n",
       "                        }\n",
       "                       .foliumtooltip table{\n",
       "                            margin: auto;\n",
       "                        }\n",
       "                        .foliumtooltip tr{\n",
       "                            text-align: left;\n",
       "                        }\n",
       "                        .foliumtooltip th{\n",
       "                            padding: 2px; padding-right: 8px;\n",
       "                        }\n",
       "                    &lt;/style&gt;\n",
       "            \n",
       "    \n",
       "                    &lt;style&gt;\n",
       "                        .foliumtooltip {\n",
       "                            \n",
       "                        }\n",
       "                       .foliumtooltip table{\n",
       "                            margin: auto;\n",
       "                        }\n",
       "                        .foliumtooltip tr{\n",
       "                            text-align: left;\n",
       "                        }\n",
       "                        .foliumtooltip th{\n",
       "                            padding: 2px; padding-right: 8px;\n",
       "                        }\n",
       "                    &lt;/style&gt;\n",
       "            \n",
       "    \n",
       "                    &lt;style&gt;\n",
       "                        .foliumtooltip {\n",
       "                            \n",
       "                        }\n",
       "                       .foliumtooltip table{\n",
       "                            margin: auto;\n",
       "                        }\n",
       "                        .foliumtooltip tr{\n",
       "                            text-align: left;\n",
       "                        }\n",
       "                        .foliumtooltip th{\n",
       "                            padding: 2px; padding-right: 8px;\n",
       "                        }\n",
       "                    &lt;/style&gt;\n",
       "            \n",
       "    \n",
       "                    &lt;style&gt;\n",
       "                        .foliumtooltip {\n",
       "                            \n",
       "                        }\n",
       "                       .foliumtooltip table{\n",
       "                            margin: auto;\n",
       "                        }\n",
       "                        .foliumtooltip tr{\n",
       "                            text-align: left;\n",
       "                        }\n",
       "                        .foliumtooltip th{\n",
       "                            padding: 2px; padding-right: 8px;\n",
       "                        }\n",
       "                    &lt;/style&gt;\n",
       "            \n",
       "&lt;/head&gt;\n",
       "&lt;body&gt;\n",
       "    \n",
       "    \n",
       "            &lt;div class=&quot;folium-map&quot; id=&quot;map_fabfcc9b6dd659a6ab0687e221e3ed49&quot; &gt;&lt;/div&gt;\n",
       "        \n",
       "&lt;/body&gt;\n",
       "&lt;script&gt;\n",
       "    \n",
       "    \n",
       "            var map_fabfcc9b6dd659a6ab0687e221e3ed49 = L.map(\n",
       "                &quot;map_fabfcc9b6dd659a6ab0687e221e3ed49&quot;,\n",
       "                {\n",
       "                    center: [14.5047, 121.0167],\n",
       "                    crs: L.CRS.EPSG3857,\n",
       "                    zoom: 10,\n",
       "                    zoomControl: true,\n",
       "                    preferCanvas: false,\n",
       "                }\n",
       "            );\n",
       "            L.control.scale().addTo(map_fabfcc9b6dd659a6ab0687e221e3ed49);\n",
       "\n",
       "            \n",
       "\n",
       "        \n",
       "    \n",
       "            var tile_layer_b12831d03d374896f04b25c91cfe8284 = L.tileLayer(\n",
       "                &quot;https://{s}.tile.openstreetmap.org/{z}/{x}/{y}.png&quot;,\n",
       "                {&quot;attribution&quot;: &quot;Data by \\u0026copy; \\u003ca target=\\&quot;_blank\\&quot; href=\\&quot;http://openstreetmap.org\\&quot;\\u003eOpenStreetMap\\u003c/a\\u003e, under \\u003ca target=\\&quot;_blank\\&quot; href=\\&quot;http://www.openstreetmap.org/copyright\\&quot;\\u003eODbL\\u003c/a\\u003e.&quot;, &quot;detectRetina&quot;: false, &quot;maxNativeZoom&quot;: 18, &quot;maxZoom&quot;: 18, &quot;minZoom&quot;: 0, &quot;noWrap&quot;: false, &quot;opacity&quot;: 1, &quot;subdomains&quot;: &quot;abc&quot;, &quot;tms&quot;: false}\n",
       "            ).addTo(map_fabfcc9b6dd659a6ab0687e221e3ed49);\n",
       "        \n",
       "    \n",
       "            map_fabfcc9b6dd659a6ab0687e221e3ed49.fitBounds(\n",
       "                [[14.5047, 121.0167], [14.5047, 121.0167]],\n",
       "                {}\n",
       "            );\n",
       "        \n",
       "    \n",
       "        function geo_json_c01b6bae0c0f169368e4e6d373fc12e6_styler(feature) {\n",
       "            switch(feature.id) {\n",
       "                default:\n",
       "                    return {&quot;color&quot;: &quot;brown&quot;, &quot;fillColor&quot;: &quot;brown&quot;, &quot;fillOpacity&quot;: 0.5, &quot;weight&quot;: 2};\n",
       "            }\n",
       "        }\n",
       "        function geo_json_c01b6bae0c0f169368e4e6d373fc12e6_highlighter(feature) {\n",
       "            switch(feature.id) {\n",
       "                default:\n",
       "                    return {&quot;fillOpacity&quot;: 0.75};\n",
       "            }\n",
       "        }\n",
       "        function geo_json_c01b6bae0c0f169368e4e6d373fc12e6_pointToLayer(feature, latlng) {\n",
       "            var opts = {&quot;bubblingMouseEvents&quot;: true, &quot;color&quot;: &quot;#3388ff&quot;, &quot;dashArray&quot;: null, &quot;dashOffset&quot;: null, &quot;fill&quot;: false, &quot;fillColor&quot;: &quot;#3388ff&quot;, &quot;fillOpacity&quot;: 0.2, &quot;fillRule&quot;: &quot;evenodd&quot;, &quot;lineCap&quot;: &quot;round&quot;, &quot;lineJoin&quot;: &quot;round&quot;, &quot;opacity&quot;: 1.0, &quot;radius&quot;: 5, &quot;stroke&quot;: true, &quot;weight&quot;: 3};\n",
       "            \n",
       "            let style = geo_json_c01b6bae0c0f169368e4e6d373fc12e6_styler(feature)\n",
       "            Object.assign(opts, style)\n",
       "            \n",
       "            return new L.CircleMarker(latlng, opts)\n",
       "        }\n",
       "\n",
       "        function geo_json_c01b6bae0c0f169368e4e6d373fc12e6_onEachFeature(feature, layer) {\n",
       "            layer.on({\n",
       "                mouseout: function(e) {\n",
       "                    if(typeof e.target.setStyle === &quot;function&quot;){\n",
       "                        geo_json_c01b6bae0c0f169368e4e6d373fc12e6.resetStyle(e.target);\n",
       "                    }\n",
       "                },\n",
       "                mouseover: function(e) {\n",
       "                    if(typeof e.target.setStyle === &quot;function&quot;){\n",
       "                        const highlightStyle = geo_json_c01b6bae0c0f169368e4e6d373fc12e6_highlighter(e.target.feature)\n",
       "                        e.target.setStyle(highlightStyle);\n",
       "                    }\n",
       "                },\n",
       "            });\n",
       "        };\n",
       "        var geo_json_c01b6bae0c0f169368e4e6d373fc12e6 = L.geoJson(null, {\n",
       "                onEachFeature: geo_json_c01b6bae0c0f169368e4e6d373fc12e6_onEachFeature,\n",
       "            \n",
       "                style: geo_json_c01b6bae0c0f169368e4e6d373fc12e6_styler,\n",
       "                pointToLayer: geo_json_c01b6bae0c0f169368e4e6d373fc12e6_pointToLayer\n",
       "        });\n",
       "\n",
       "        function geo_json_c01b6bae0c0f169368e4e6d373fc12e6_add (data) {\n",
       "            geo_json_c01b6bae0c0f169368e4e6d373fc12e6\n",
       "                .addData(data)\n",
       "                .addTo(map_fabfcc9b6dd659a6ab0687e221e3ed49);\n",
       "        }\n",
       "            geo_json_c01b6bae0c0f169368e4e6d373fc12e6_add({&quot;bbox&quot;: [121.0167, 14.5047, 121.0167, 14.5047], &quot;features&quot;: [{&quot;bbox&quot;: [121.0167, 14.5047, 121.0167, 14.5047], &quot;geometry&quot;: {&quot;coordinates&quot;: [121.0167, 14.5047], &quot;type&quot;: &quot;Point&quot;}, &quot;id&quot;: &quot;0&quot;, &quot;properties&quot;: {&quot;__folium_color&quot;: &quot;brown&quot;}, &quot;type&quot;: &quot;Feature&quot;}], &quot;type&quot;: &quot;FeatureCollection&quot;});\n",
       "\n",
       "        \n",
       "    \n",
       "    geo_json_c01b6bae0c0f169368e4e6d373fc12e6.bindTooltip(\n",
       "    function(layer){\n",
       "    let div = L.DomUtil.create(&#x27;div&#x27;);\n",
       "    \n",
       "    return div\n",
       "    }\n",
       "    ,{&quot;className&quot;: &quot;foliumtooltip&quot;, &quot;sticky&quot;: true});\n",
       "                     \n",
       "    \n",
       "        function geo_json_b68e7dfe345cffd4edca375d191a3833_styler(feature) {\n",
       "            switch(feature.id) {\n",
       "                default:\n",
       "                    return {&quot;color&quot;: &quot;purple&quot;, &quot;fillColor&quot;: &quot;purple&quot;, &quot;fillOpacity&quot;: 0.5, &quot;weight&quot;: 2};\n",
       "            }\n",
       "        }\n",
       "        function geo_json_b68e7dfe345cffd4edca375d191a3833_highlighter(feature) {\n",
       "            switch(feature.id) {\n",
       "                default:\n",
       "                    return {&quot;fillOpacity&quot;: 0.75};\n",
       "            }\n",
       "        }\n",
       "        function geo_json_b68e7dfe345cffd4edca375d191a3833_pointToLayer(feature, latlng) {\n",
       "            var opts = {&quot;bubblingMouseEvents&quot;: true, &quot;color&quot;: &quot;#3388ff&quot;, &quot;dashArray&quot;: null, &quot;dashOffset&quot;: null, &quot;fill&quot;: false, &quot;fillColor&quot;: &quot;#3388ff&quot;, &quot;fillOpacity&quot;: 0.2, &quot;fillRule&quot;: &quot;evenodd&quot;, &quot;lineCap&quot;: &quot;round&quot;, &quot;lineJoin&quot;: &quot;round&quot;, &quot;opacity&quot;: 1.0, &quot;radius&quot;: 5, &quot;stroke&quot;: true, &quot;weight&quot;: 3};\n",
       "            \n",
       "            let style = geo_json_b68e7dfe345cffd4edca375d191a3833_styler(feature)\n",
       "            Object.assign(opts, style)\n",
       "            \n",
       "            return new L.CircleMarker(latlng, opts)\n",
       "        }\n",
       "\n",
       "        function geo_json_b68e7dfe345cffd4edca375d191a3833_onEachFeature(feature, layer) {\n",
       "            layer.on({\n",
       "                mouseout: function(e) {\n",
       "                    if(typeof e.target.setStyle === &quot;function&quot;){\n",
       "                        geo_json_b68e7dfe345cffd4edca375d191a3833.resetStyle(e.target);\n",
       "                    }\n",
       "                },\n",
       "                mouseover: function(e) {\n",
       "                    if(typeof e.target.setStyle === &quot;function&quot;){\n",
       "                        const highlightStyle = geo_json_b68e7dfe345cffd4edca375d191a3833_highlighter(e.target.feature)\n",
       "                        e.target.setStyle(highlightStyle);\n",
       "                    }\n",
       "                },\n",
       "            });\n",
       "        };\n",
       "        var geo_json_b68e7dfe345cffd4edca375d191a3833 = L.geoJson(null, {\n",
       "                onEachFeature: geo_json_b68e7dfe345cffd4edca375d191a3833_onEachFeature,\n",
       "            \n",
       "                style: geo_json_b68e7dfe345cffd4edca375d191a3833_styler,\n",
       "                pointToLayer: geo_json_b68e7dfe345cffd4edca375d191a3833_pointToLayer\n",
       "        });\n",
       "\n",
       "        function geo_json_b68e7dfe345cffd4edca375d191a3833_add (data) {\n",
       "            geo_json_b68e7dfe345cffd4edca375d191a3833\n",
       "                .addData(data)\n",
       "                .addTo(map_fabfcc9b6dd659a6ab0687e221e3ed49);\n",
       "        }\n",
       "            geo_json_b68e7dfe345cffd4edca375d191a3833_add({&quot;bbox&quot;: [121.0419, 14.6451, 121.0419, 14.6451], &quot;features&quot;: [{&quot;bbox&quot;: [121.0419, 14.6451, 121.0419, 14.6451], &quot;geometry&quot;: {&quot;coordinates&quot;: [121.0419, 14.6451], &quot;type&quot;: &quot;Point&quot;}, &quot;id&quot;: &quot;0&quot;, &quot;properties&quot;: {&quot;__folium_color&quot;: &quot;purple&quot;}, &quot;type&quot;: &quot;Feature&quot;}], &quot;type&quot;: &quot;FeatureCollection&quot;});\n",
       "\n",
       "        \n",
       "    \n",
       "    geo_json_b68e7dfe345cffd4edca375d191a3833.bindTooltip(\n",
       "    function(layer){\n",
       "    let div = L.DomUtil.create(&#x27;div&#x27;);\n",
       "    \n",
       "    return div\n",
       "    }\n",
       "    ,{&quot;className&quot;: &quot;foliumtooltip&quot;, &quot;sticky&quot;: true});\n",
       "                     \n",
       "    \n",
       "        function geo_json_9a4f615f7cc9b3bad6393ed5e62e2511_styler(feature) {\n",
       "            switch(feature.id) {\n",
       "                default:\n",
       "                    return {&quot;color&quot;: &quot;red&quot;, &quot;fillColor&quot;: &quot;red&quot;, &quot;fillOpacity&quot;: 0.5, &quot;weight&quot;: 2};\n",
       "            }\n",
       "        }\n",
       "        function geo_json_9a4f615f7cc9b3bad6393ed5e62e2511_highlighter(feature) {\n",
       "            switch(feature.id) {\n",
       "                default:\n",
       "                    return {&quot;fillOpacity&quot;: 0.75};\n",
       "            }\n",
       "        }\n",
       "        function geo_json_9a4f615f7cc9b3bad6393ed5e62e2511_pointToLayer(feature, latlng) {\n",
       "            var opts = {&quot;bubblingMouseEvents&quot;: true, &quot;color&quot;: &quot;#3388ff&quot;, &quot;dashArray&quot;: null, &quot;dashOffset&quot;: null, &quot;fill&quot;: false, &quot;fillColor&quot;: &quot;#3388ff&quot;, &quot;fillOpacity&quot;: 0.2, &quot;fillRule&quot;: &quot;evenodd&quot;, &quot;lineCap&quot;: &quot;round&quot;, &quot;lineJoin&quot;: &quot;round&quot;, &quot;opacity&quot;: 1.0, &quot;radius&quot;: 5, &quot;stroke&quot;: true, &quot;weight&quot;: 3};\n",
       "            \n",
       "            let style = geo_json_9a4f615f7cc9b3bad6393ed5e62e2511_styler(feature)\n",
       "            Object.assign(opts, style)\n",
       "            \n",
       "            return new L.CircleMarker(latlng, opts)\n",
       "        }\n",
       "\n",
       "        function geo_json_9a4f615f7cc9b3bad6393ed5e62e2511_onEachFeature(feature, layer) {\n",
       "            layer.on({\n",
       "                mouseout: function(e) {\n",
       "                    if(typeof e.target.setStyle === &quot;function&quot;){\n",
       "                        geo_json_9a4f615f7cc9b3bad6393ed5e62e2511.resetStyle(e.target);\n",
       "                    }\n",
       "                },\n",
       "                mouseover: function(e) {\n",
       "                    if(typeof e.target.setStyle === &quot;function&quot;){\n",
       "                        const highlightStyle = geo_json_9a4f615f7cc9b3bad6393ed5e62e2511_highlighter(e.target.feature)\n",
       "                        e.target.setStyle(highlightStyle);\n",
       "                    }\n",
       "                },\n",
       "            });\n",
       "        };\n",
       "        var geo_json_9a4f615f7cc9b3bad6393ed5e62e2511 = L.geoJson(null, {\n",
       "                onEachFeature: geo_json_9a4f615f7cc9b3bad6393ed5e62e2511_onEachFeature,\n",
       "            \n",
       "                style: geo_json_9a4f615f7cc9b3bad6393ed5e62e2511_styler,\n",
       "                pointToLayer: geo_json_9a4f615f7cc9b3bad6393ed5e62e2511_pointToLayer\n",
       "        });\n",
       "\n",
       "        function geo_json_9a4f615f7cc9b3bad6393ed5e62e2511_add (data) {\n",
       "            geo_json_9a4f615f7cc9b3bad6393ed5e62e2511\n",
       "                .addData(data)\n",
       "                .addTo(map_fabfcc9b6dd659a6ab0687e221e3ed49);\n",
       "        }\n",
       "            geo_json_9a4f615f7cc9b3bad6393ed5e62e2511_add({&quot;bbox&quot;: [120.9679, 14.5884, 120.9679, 14.5884], &quot;features&quot;: [{&quot;bbox&quot;: [120.9679, 14.5884, 120.9679, 14.5884], &quot;geometry&quot;: {&quot;coordinates&quot;: [120.9679, 14.5884], &quot;type&quot;: &quot;Point&quot;}, &quot;id&quot;: &quot;0&quot;, &quot;properties&quot;: {&quot;__folium_color&quot;: &quot;red&quot;}, &quot;type&quot;: &quot;Feature&quot;}], &quot;type&quot;: &quot;FeatureCollection&quot;});\n",
       "\n",
       "        \n",
       "    \n",
       "    geo_json_9a4f615f7cc9b3bad6393ed5e62e2511.bindTooltip(\n",
       "    function(layer){\n",
       "    let div = L.DomUtil.create(&#x27;div&#x27;);\n",
       "    \n",
       "    return div\n",
       "    }\n",
       "    ,{&quot;className&quot;: &quot;foliumtooltip&quot;, &quot;sticky&quot;: true});\n",
       "                     \n",
       "    \n",
       "        function geo_json_c574be39bbf6415e5cdcd8b836f8b24a_styler(feature) {\n",
       "            switch(feature.id) {\n",
       "                default:\n",
       "                    return {&quot;color&quot;: &quot;orange&quot;, &quot;fillColor&quot;: &quot;orange&quot;, &quot;fillOpacity&quot;: 0.5, &quot;weight&quot;: 2};\n",
       "            }\n",
       "        }\n",
       "        function geo_json_c574be39bbf6415e5cdcd8b836f8b24a_highlighter(feature) {\n",
       "            switch(feature.id) {\n",
       "                default:\n",
       "                    return {&quot;fillOpacity&quot;: 0.75};\n",
       "            }\n",
       "        }\n",
       "        function geo_json_c574be39bbf6415e5cdcd8b836f8b24a_pointToLayer(feature, latlng) {\n",
       "            var opts = {&quot;bubblingMouseEvents&quot;: true, &quot;color&quot;: &quot;#3388ff&quot;, &quot;dashArray&quot;: null, &quot;dashOffset&quot;: null, &quot;fill&quot;: false, &quot;fillColor&quot;: &quot;#3388ff&quot;, &quot;fillOpacity&quot;: 0.2, &quot;fillRule&quot;: &quot;evenodd&quot;, &quot;lineCap&quot;: &quot;round&quot;, &quot;lineJoin&quot;: &quot;round&quot;, &quot;opacity&quot;: 1.0, &quot;radius&quot;: 5, &quot;stroke&quot;: true, &quot;weight&quot;: 3};\n",
       "            \n",
       "            let style = geo_json_c574be39bbf6415e5cdcd8b836f8b24a_styler(feature)\n",
       "            Object.assign(opts, style)\n",
       "            \n",
       "            return new L.CircleMarker(latlng, opts)\n",
       "        }\n",
       "\n",
       "        function geo_json_c574be39bbf6415e5cdcd8b836f8b24a_onEachFeature(feature, layer) {\n",
       "            layer.on({\n",
       "                mouseout: function(e) {\n",
       "                    if(typeof e.target.setStyle === &quot;function&quot;){\n",
       "                        geo_json_c574be39bbf6415e5cdcd8b836f8b24a.resetStyle(e.target);\n",
       "                    }\n",
       "                },\n",
       "                mouseover: function(e) {\n",
       "                    if(typeof e.target.setStyle === &quot;function&quot;){\n",
       "                        const highlightStyle = geo_json_c574be39bbf6415e5cdcd8b836f8b24a_highlighter(e.target.feature)\n",
       "                        e.target.setStyle(highlightStyle);\n",
       "                    }\n",
       "                },\n",
       "            });\n",
       "        };\n",
       "        var geo_json_c574be39bbf6415e5cdcd8b836f8b24a = L.geoJson(null, {\n",
       "                onEachFeature: geo_json_c574be39bbf6415e5cdcd8b836f8b24a_onEachFeature,\n",
       "            \n",
       "                style: geo_json_c574be39bbf6415e5cdcd8b836f8b24a_styler,\n",
       "                pointToLayer: geo_json_c574be39bbf6415e5cdcd8b836f8b24a_pointToLayer\n",
       "        });\n",
       "\n",
       "        function geo_json_c574be39bbf6415e5cdcd8b836f8b24a_add (data) {\n",
       "            geo_json_c574be39bbf6415e5cdcd8b836f8b24a\n",
       "                .addData(data)\n",
       "                .addTo(map_fabfcc9b6dd659a6ab0687e221e3ed49);\n",
       "        }\n",
       "            geo_json_c574be39bbf6415e5cdcd8b836f8b24a_add({&quot;bbox&quot;: [123.963, 10.3223, 123.963, 10.3223], &quot;features&quot;: [{&quot;bbox&quot;: [123.963, 10.3223, 123.963, 10.3223], &quot;geometry&quot;: {&quot;coordinates&quot;: [123.963, 10.3223], &quot;type&quot;: &quot;Point&quot;}, &quot;id&quot;: &quot;0&quot;, &quot;properties&quot;: {&quot;__folium_color&quot;: &quot;orange&quot;}, &quot;type&quot;: &quot;Feature&quot;}], &quot;type&quot;: &quot;FeatureCollection&quot;});\n",
       "\n",
       "        \n",
       "    \n",
       "    geo_json_c574be39bbf6415e5cdcd8b836f8b24a.bindTooltip(\n",
       "    function(layer){\n",
       "    let div = L.DomUtil.create(&#x27;div&#x27;);\n",
       "    \n",
       "    return div\n",
       "    }\n",
       "    ,{&quot;className&quot;: &quot;foliumtooltip&quot;, &quot;sticky&quot;: true});\n",
       "                     \n",
       "    \n",
       "        function geo_json_e19f417955095cc597392d73fb0491fb_styler(feature) {\n",
       "            switch(feature.id) {\n",
       "                default:\n",
       "                    return {&quot;color&quot;: &quot;pink&quot;, &quot;fillColor&quot;: &quot;pink&quot;, &quot;fillOpacity&quot;: 0.5, &quot;weight&quot;: 2};\n",
       "            }\n",
       "        }\n",
       "        function geo_json_e19f417955095cc597392d73fb0491fb_highlighter(feature) {\n",
       "            switch(feature.id) {\n",
       "                default:\n",
       "                    return {&quot;fillOpacity&quot;: 0.75};\n",
       "            }\n",
       "        }\n",
       "        function geo_json_e19f417955095cc597392d73fb0491fb_pointToLayer(feature, latlng) {\n",
       "            var opts = {&quot;bubblingMouseEvents&quot;: true, &quot;color&quot;: &quot;#3388ff&quot;, &quot;dashArray&quot;: null, &quot;dashOffset&quot;: null, &quot;fill&quot;: false, &quot;fillColor&quot;: &quot;#3388ff&quot;, &quot;fillOpacity&quot;: 0.2, &quot;fillRule&quot;: &quot;evenodd&quot;, &quot;lineCap&quot;: &quot;round&quot;, &quot;lineJoin&quot;: &quot;round&quot;, &quot;opacity&quot;: 1.0, &quot;radius&quot;: 5, &quot;stroke&quot;: true, &quot;weight&quot;: 3};\n",
       "            \n",
       "            let style = geo_json_e19f417955095cc597392d73fb0491fb_styler(feature)\n",
       "            Object.assign(opts, style)\n",
       "            \n",
       "            return new L.CircleMarker(latlng, opts)\n",
       "        }\n",
       "\n",
       "        function geo_json_e19f417955095cc597392d73fb0491fb_onEachFeature(feature, layer) {\n",
       "            layer.on({\n",
       "                mouseout: function(e) {\n",
       "                    if(typeof e.target.setStyle === &quot;function&quot;){\n",
       "                        geo_json_e19f417955095cc597392d73fb0491fb.resetStyle(e.target);\n",
       "                    }\n",
       "                },\n",
       "                mouseover: function(e) {\n",
       "                    if(typeof e.target.setStyle === &quot;function&quot;){\n",
       "                        const highlightStyle = geo_json_e19f417955095cc597392d73fb0491fb_highlighter(e.target.feature)\n",
       "                        e.target.setStyle(highlightStyle);\n",
       "                    }\n",
       "                },\n",
       "            });\n",
       "        };\n",
       "        var geo_json_e19f417955095cc597392d73fb0491fb = L.geoJson(null, {\n",
       "                onEachFeature: geo_json_e19f417955095cc597392d73fb0491fb_onEachFeature,\n",
       "            \n",
       "                style: geo_json_e19f417955095cc597392d73fb0491fb_styler,\n",
       "                pointToLayer: geo_json_e19f417955095cc597392d73fb0491fb_pointToLayer\n",
       "        });\n",
       "\n",
       "        function geo_json_e19f417955095cc597392d73fb0491fb_add (data) {\n",
       "            geo_json_e19f417955095cc597392d73fb0491fb\n",
       "                .addData(data)\n",
       "                .addTo(map_fabfcc9b6dd659a6ab0687e221e3ed49);\n",
       "        }\n",
       "            geo_json_e19f417955095cc597392d73fb0491fb_add({&quot;bbox&quot;: [125.655, 7.1277, 125.655, 7.1277], &quot;features&quot;: [{&quot;bbox&quot;: [125.655, 7.1277, 125.655, 7.1277], &quot;geometry&quot;: {&quot;coordinates&quot;: [125.655, 7.1277], &quot;type&quot;: &quot;Point&quot;}, &quot;id&quot;: &quot;0&quot;, &quot;properties&quot;: {&quot;__folium_color&quot;: &quot;pink&quot;}, &quot;type&quot;: &quot;Feature&quot;}], &quot;type&quot;: &quot;FeatureCollection&quot;});\n",
       "\n",
       "        \n",
       "    \n",
       "    geo_json_e19f417955095cc597392d73fb0491fb.bindTooltip(\n",
       "    function(layer){\n",
       "    let div = L.DomUtil.create(&#x27;div&#x27;);\n",
       "    \n",
       "    return div\n",
       "    }\n",
       "    ,{&quot;className&quot;: &quot;foliumtooltip&quot;, &quot;sticky&quot;: true});\n",
       "                     \n",
       "    \n",
       "        function geo_json_9ed673cea7c04d6a7a34d4dd11e397e3_styler(feature) {\n",
       "            switch(feature.id) {\n",
       "                default:\n",
       "                    return {&quot;color&quot;: &quot;blue&quot;, &quot;fillColor&quot;: &quot;blue&quot;, &quot;fillOpacity&quot;: 0.5, &quot;weight&quot;: 2};\n",
       "            }\n",
       "        }\n",
       "        function geo_json_9ed673cea7c04d6a7a34d4dd11e397e3_highlighter(feature) {\n",
       "            switch(feature.id) {\n",
       "                default:\n",
       "                    return {&quot;fillOpacity&quot;: 0.75};\n",
       "            }\n",
       "        }\n",
       "        function geo_json_9ed673cea7c04d6a7a34d4dd11e397e3_pointToLayer(feature, latlng) {\n",
       "            var opts = {&quot;bubblingMouseEvents&quot;: true, &quot;color&quot;: &quot;#3388ff&quot;, &quot;dashArray&quot;: null, &quot;dashOffset&quot;: null, &quot;fill&quot;: false, &quot;fillColor&quot;: &quot;#3388ff&quot;, &quot;fillOpacity&quot;: 0.2, &quot;fillRule&quot;: &quot;evenodd&quot;, &quot;lineCap&quot;: &quot;round&quot;, &quot;lineJoin&quot;: &quot;round&quot;, &quot;opacity&quot;: 1.0, &quot;radius&quot;: 5, &quot;stroke&quot;: true, &quot;weight&quot;: 3};\n",
       "            \n",
       "            let style = geo_json_9ed673cea7c04d6a7a34d4dd11e397e3_styler(feature)\n",
       "            Object.assign(opts, style)\n",
       "            \n",
       "            return new L.CircleMarker(latlng, opts)\n",
       "        }\n",
       "\n",
       "        function geo_json_9ed673cea7c04d6a7a34d4dd11e397e3_onEachFeature(feature, layer) {\n",
       "            layer.on({\n",
       "                mouseout: function(e) {\n",
       "                    if(typeof e.target.setStyle === &quot;function&quot;){\n",
       "                        geo_json_9ed673cea7c04d6a7a34d4dd11e397e3.resetStyle(e.target);\n",
       "                    }\n",
       "                },\n",
       "                mouseover: function(e) {\n",
       "                    if(typeof e.target.setStyle === &quot;function&quot;){\n",
       "                        const highlightStyle = geo_json_9ed673cea7c04d6a7a34d4dd11e397e3_highlighter(e.target.feature)\n",
       "                        e.target.setStyle(highlightStyle);\n",
       "                    }\n",
       "                },\n",
       "            });\n",
       "        };\n",
       "        var geo_json_9ed673cea7c04d6a7a34d4dd11e397e3 = L.geoJson(null, {\n",
       "                onEachFeature: geo_json_9ed673cea7c04d6a7a34d4dd11e397e3_onEachFeature,\n",
       "            \n",
       "                style: geo_json_9ed673cea7c04d6a7a34d4dd11e397e3_styler,\n",
       "                pointToLayer: geo_json_9ed673cea7c04d6a7a34d4dd11e397e3_pointToLayer\n",
       "        });\n",
       "\n",
       "        function geo_json_9ed673cea7c04d6a7a34d4dd11e397e3_add (data) {\n",
       "            geo_json_9ed673cea7c04d6a7a34d4dd11e397e3\n",
       "                .addData(data)\n",
       "                .addTo(map_fabfcc9b6dd659a6ab0687e221e3ed49);\n",
       "        }\n",
       "            geo_json_9ed673cea7c04d6a7a34d4dd11e397e3_add({&quot;bbox&quot;: [122.0663, 6.9171, 122.0663, 6.9171], &quot;features&quot;: [{&quot;bbox&quot;: [122.0663, 6.9171, 122.0663, 6.9171], &quot;geometry&quot;: {&quot;coordinates&quot;: [122.0663, 6.9171], &quot;type&quot;: &quot;Point&quot;}, &quot;id&quot;: &quot;0&quot;, &quot;properties&quot;: {&quot;__folium_color&quot;: &quot;blue&quot;}, &quot;type&quot;: &quot;Feature&quot;}], &quot;type&quot;: &quot;FeatureCollection&quot;});\n",
       "\n",
       "        \n",
       "    \n",
       "    geo_json_9ed673cea7c04d6a7a34d4dd11e397e3.bindTooltip(\n",
       "    function(layer){\n",
       "    let div = L.DomUtil.create(&#x27;div&#x27;);\n",
       "    \n",
       "    return div\n",
       "    }\n",
       "    ,{&quot;className&quot;: &quot;foliumtooltip&quot;, &quot;sticky&quot;: true});\n",
       "                     \n",
       "&lt;/script&gt;\n",
       "&lt;/html&gt;\" style=\"position:absolute;width:100%;height:100%;left:0;top:0;border:none !important;\" allowfullscreen webkitallowfullscreen mozallowfullscreen></iframe></div></div>"
      ],
      "text/plain": [
       "<folium.folium.Map at 0x14a74acd0>"
      ]
     },
     "execution_count": 9,
     "metadata": {},
     "output_type": "execute_result"
    }
   ],
   "source": [
    "import folium\n",
    "m = gdf_pasay.explore(color ='brown', marker_type=folium.CircleMarker(radius = 5))\n",
    "m = gdf_quezon.explore(m=m,color = 'purple', marker_type=folium.CircleMarker(radius = 5))\n",
    "m = gdf_port.explore(m=m,color = 'red', marker_type=folium.CircleMarker(radius = 5))\n",
    "m = gdf_cebu.explore(m=m,color = 'orange', marker_type=folium.CircleMarker(radius = 5))\n",
    "m = gdf_davao.explore(m=m, color = 'pink', marker_type=folium.CircleMarker(radius = 5))\n",
    "gdf_zamb.explore(m=m,color = 'blue', marker_type=folium.CircleMarker(radius = 5))"
   ]
  },
  {
   "cell_type": "code",
   "execution_count": null,
   "metadata": {},
   "outputs": [],
   "source": []
  },
  {
   "cell_type": "markdown",
   "metadata": {},
   "source": [
    "## Greencover and HI"
   ]
  },
  {
   "cell_type": "markdown",
   "metadata": {},
   "source": [
    "## Electricity Distribution, Green Cover and Heat Index"
   ]
  },
  {
   "cell_type": "markdown",
   "metadata": {},
   "source": [
    "# References\n",
    "\n",
    "-> add citations from Blog Intro\n",
    "https://benny.istan.to/blog/20220803-heat-wave-duration-index\n",
    "https://public.wmo.int/en\n",
    "https://www.ipcc.ch\n",
    "http://www.cnnphilippines.com/news/2023/4/23/dangerous-temperaturs-heat-index.html"
   ]
  },
  {
   "cell_type": "code",
   "execution_count": null,
   "metadata": {},
   "outputs": [],
   "source": [
    "color_palette = [  '#4E79A7',  # Blue\n",
    "    '#F28E2B',  # Orange\n",
    "    '#E15759',  # Red\n",
    "    '#76B7B2',  # Teal\n",
    "    '#59A14F',  # Green\n",
    "    '#EDC948',  # Yellow\n",
    "    '#B07AA1',  # Purple\n",
    "    '#FF9DA7',  # Pink\n",
    "    '#9C755F',  # Brown\n",
    "    '#BAB0AC',  # Gray\n",
    "    '#7C7C7C',  # Dark gray\n",
    "    '#6B4C9A',  # Violet\n",
    "    '#D55E00',  # Orange-red\n",
    "    '#CC61B0',  # Magenta\n",
    "    '#0072B2',  # Bright blue\n",
    "    '#329262',  # Peacock green\n",
    "    '#9E5B5A',  # Brick red\n",
    "    '#636363',  # Medium gray\n",
    "    '#CD9C00',  # Gold\n",
    "    '#5D69B1',  # Medium blue\n",
    "]"
   ]
  },
  {
   "cell_type": "code",
   "execution_count": null,
   "metadata": {},
   "outputs": [],
   "source": [
    "bokeh.core.validation.silence(EMPTY_LAYOUT, True)\n",
    "\n",
    "def get_line_plot(heatwaves,title, source, markers=False, subtitle=None, measure = 'heat_index', category = 'city'):\n",
    "\n",
    "    p2 = figure(x_axis_type = 'datetime', width = 1000, height = 400, toolbar_location='above')\n",
    "    p2.add_layout(Legend(), \"right\")\n",
    "\n",
    "    for id, city in enumerate(heatwaves['city'].unique()):\n",
    "        df = heatwaves[heatwaves[category]==city].groupby('time').mean().reset_index()[['time', measure]]\n",
    "        p2.line(df['time'], df[measure], line_width=2, line_color = color_palette[id], legend_label=city)\n",
    "\n",
    "    # p2.legend.click_policy='hide'\n",
    "    # if subtitle is not None:\n",
    "    #     p2.title = subtitle\n",
    "\n",
    "    p2.title = title\n",
    "    # title_fig = figure(title=title, toolbar_location=None,width=1000, height=40, )\n",
    "    # title_fig.title.align = \"left\"\n",
    "    # title_fig.title.text_font_size = \"20pt\"\n",
    "    # title_fig.border_fill_alpha = 0\n",
    "    # title_fig.outline_line_width=0\n",
    "\n",
    "    # #with silence(MISSING_RENDERERS):\n",
    "    sub_title = figure(title=source, toolbar_location=None,width=1000, height=40, )\n",
    "    sub_title.title.align = \"left\"\n",
    "    sub_title.title.text_font_size = \"10pt\"\n",
    "    sub_title.title.text_font_style=\"normal\"\n",
    "    sub_title.border_fill_alpha = 0\n",
    "    sub_title.outline_line_width=0\n",
    "\n",
    "    layout = column(p2, sub_title)\n",
    "\n",
    "#     if markers:\n",
    "#         p2.renderers.extend([\n",
    "#         Span(\n",
    "#             location=datetime(2020, 3, 15),\n",
    "#             dimension=\"height\",\n",
    "#             line_color='#7C7C7C',\n",
    "#             line_width=2,\n",
    "#             line_dash=(4,4)\n",
    "#       ),\n",
    "#         Span(\n",
    "#             location=datetime(2021, 2, 15),\n",
    "#             dimension=\"height\",\n",
    "#             line_color='#7C7C7C',\n",
    "#             line_width=2,\n",
    "#             line_dash=(4,4)\n",
    "#         ),\n",
    "#     ]\n",
    "# )\n",
    "\n",
    "    return layout"
   ]
  },
  {
   "cell_type": "code",
   "execution_count": null,
   "metadata": {},
   "outputs": [],
   "source": [
    "ds_mean2_gldas=xr.open_mfdataset(\"../../data/gldas/ymean2/wld_cli_*.nc4\", parallel = True)"
   ]
  },
  {
   "cell_type": "markdown",
   "metadata": {},
   "source": [
    "## Comparing HWDI, Heat Index from NASA GLDAS along with PASAY PHL Govt Heat Index Data"
   ]
  },
  {
   "cell_type": "code",
   "execution_count": null,
   "metadata": {},
   "outputs": [],
   "source": [
    "manila_hwdi_mean2 = add_city_name(clip_area(ds_mean2_gldas, MANILA).to_dataframe().reset_index(), 'Manila')\n",
    "davao_hwdi_mean2 = add_city_name(clip_area(ds_mean2_gldas, DAVAO).to_dataframe().reset_index(), 'Davao')\n",
    "zamboanga_hwdi_mean2 = add_city_name(clip_area(ds_mean2_gldas, ZAMBOANGA).to_dataframe().reset_index(), 'Zamboanga')\n",
    "cebu_hwdi_mean2 = add_city_name(clip_area(ds_mean2_gldas, CEBU).to_dataframe().reset_index(), 'Cebu')"
   ]
  },
  {
   "cell_type": "code",
   "execution_count": null,
   "metadata": {},
   "outputs": [],
   "source": [
    "manila_heatindex = add_city_name(pd.read_csv('../../data/gldas/heatindex/manila_heat_index_daily.csv'), 'Manila')\n",
    "davao_heatindex = add_city_name(pd.read_csv('../../data/gldas/heatindex/davao_heat_index_daily.csv'), 'Davao')\n",
    "zamboanga_heatindex = add_city_name(pd.read_csv('../../data/gldas/heatindex/zamboanga_heat_index_daily.csv'), 'Zamboanga')\n",
    "cebu_heatindex = add_city_name(pd.read_csv('../../data/gldas/heatindex/cebu_heat_index_daily.csv'), 'Cebu')"
   ]
  },
  {
   "cell_type": "code",
   "execution_count": null,
   "metadata": {},
   "outputs": [],
   "source": [
    "manilaport_heatindex_pasay = add_city_name(gpd.read_file('../../data/pasay/pag_port.geojson'), 'Manila Port')\n",
    "manilaquezon_heatindex_pasay = add_city_name(gpd.read_file('../../data/pasay/pag_quezon.geojson'), 'Quezon')\n",
    "manilapasay_heatindex_pasay = add_city_name(gpd.read_file('../../data/pasay/pag_pasay.geojson'), 'Pasay')"
   ]
  },
  {
   "cell_type": "code",
   "execution_count": null,
   "metadata": {},
   "outputs": [],
   "source": [
    "manilaport_heatindex_max = add_city_name(gpd.read_file('../../data/pasay/pag_port_max.geojson'), 'Manila Port')\n",
    "manilaquezon_heatindex_max = add_city_name(gpd.read_file('../../data/pasay/pag_quezon_max.geojson'), 'Quezon')\n",
    "manilapasay_heatindex_max = add_city_name(gpd.read_file('../../data/pasay/pag_pasay_max.geojson'), 'Pasay')"
   ]
  },
  {
   "cell_type": "code",
   "execution_count": null,
   "metadata": {},
   "outputs": [],
   "source": [
    "phl_cities_heatindex_pasay = pd.concat([manilaport_heatindex_pasay, manilaquezon_heatindex_pasay, manilapasay_heatindex_pasay])"
   ]
  },
  {
   "cell_type": "code",
   "execution_count": null,
   "metadata": {},
   "outputs": [],
   "source": [
    "from datetime import datetime\n",
    "manilaport_heatindex_max['Date'] = manilaport_heatindex_max['Date'].apply(lambda x: datetime.strptime(x, '%d/%m/%Y'))\n",
    "#manilaquezon_heatindex_max['Date'] = manilaquezon_heatindex_max['Date'].apply(lambda x: datetime.strptime(x, '%d/%m/%y'))"
   ]
  },
  {
   "cell_type": "code",
   "execution_count": null,
   "metadata": {},
   "outputs": [],
   "source": [
    "phl_cities_heatindex_pasay_max = pd.concat([manilaport_heatindex_max, manilaquezon_heatindex_max, manilapasay_heatindex_max])"
   ]
  },
  {
   "cell_type": "code",
   "execution_count": null,
   "metadata": {},
   "outputs": [],
   "source": [
    "manilaquezon_heatindex_max['Date'] = pd.to_datetime(manilaquezon_heatindex_max[['Year', 'Month', 'Day']])"
   ]
  },
  {
   "cell_type": "code",
   "execution_count": null,
   "metadata": {},
   "outputs": [],
   "source": [
    "phl_cities_heatindex_pasay_max.rename(columns = {'Date':'time'}, inplace=True)"
   ]
  },
  {
   "cell_type": "code",
   "execution_count": null,
   "metadata": {},
   "outputs": [],
   "source": [
    "phl_cities_hwdi_mean2 = pd.concat([manila_hwdi_mean2, zamboanga_hwdi_mean2, davao_hwdi_mean2, cebu_hwdi_mean2])\n",
    "phl_cities_heatindex = pd.concat([manila_heatindex, zamboanga_heatindex, davao_heatindex, cebu_heatindex])"
   ]
  },
  {
   "cell_type": "code",
   "execution_count": null,
   "metadata": {},
   "outputs": [],
   "source": [
    "from datetime import datetime\n",
    "phl_cities_heatindex['time'] = phl_cities_heatindex['time'].apply(lambda x: datetime.strptime(x, '%Y-%m-%d %H:%M:%S'))"
   ]
  },
  {
   "cell_type": "code",
   "execution_count": null,
   "metadata": {},
   "outputs": [],
   "source": [
    "phl_cities_heatindex_year = phl_cities_heatindex[['city', 'time', 'heat_index']].groupby([pd.Grouper(key='time', freq='Y'), 'city']).agg({'mean', 'max', 'min'}).reset_index()\n",
    "phl_cities_heatindex_year.set_index(['time', 'city'], inplace=True)\n",
    "phl_cities_heatindex_year.columns = phl_cities_heatindex_year.columns.droplevel(0)\n",
    "phl_cities_heatindex_year.reset_index(inplace=True)"
   ]
  },
  {
   "cell_type": "code",
   "execution_count": null,
   "metadata": {},
   "outputs": [],
   "source": [
    "phl_cities_heatindex_month = phl_cities_heatindex[['city', 'time', 'heat_index']].groupby([pd.Grouper(key='time', freq='M'), 'city']).agg({'mean', 'max', 'min'}).reset_index()\n",
    "phl_cities_heatindex_month.set_index(['time', 'city'], inplace=True)\n",
    "phl_cities_heatindex_month.columns = phl_cities_heatindex_month.columns.droplevel(0)"
   ]
  },
  {
   "cell_type": "code",
   "execution_count": null,
   "metadata": {},
   "outputs": [],
   "source": [
    "phl_cities_heatindex_pasay['time'] = phl_cities_heatindex_pasay['Date']"
   ]
  },
  {
   "cell_type": "code",
   "execution_count": null,
   "metadata": {},
   "outputs": [],
   "source": [
    "manila_heatindex_tomorrowio = pd.read_csv('../../data/tomorrow.io/manila1_20230401_20230504_polygon.csv')"
   ]
  },
  {
   "cell_type": "code",
   "execution_count": null,
   "metadata": {},
   "outputs": [],
   "source": [
    "from datetime import datetime\n",
    "manila_heatindex_tomorrowio['startTime'] = manila_heatindex_tomorrowio['startTime'].apply(lambda x: datetime.strptime(x, '%Y-%m-%dT%H:%M:%S'))"
   ]
  },
  {
   "cell_type": "code",
   "execution_count": null,
   "metadata": {},
   "outputs": [],
   "source": [
    "manila_heatindex_tomorrowio = manila_heatindex_tomorrowio.groupby(['startTime']).mean()[['heat_index_new_C', 'heat_index_new', 'maxTemperature']].reset_index()"
   ]
  },
  {
   "cell_type": "code",
   "execution_count": null,
   "metadata": {},
   "outputs": [],
   "source": [
    "manila_heatindex_tomorrowio['city'] = 'Manila'"
   ]
  },
  {
   "cell_type": "code",
   "execution_count": null,
   "metadata": {},
   "outputs": [],
   "source": [
    "manila_heatindex_tomorrowio.rename(columns = {'startTime':'time', 'heat_index_new_C':'Maximum Heat Index'}, inplace=True)"
   ]
  },
  {
   "cell_type": "code",
   "execution_count": null,
   "metadata": {},
   "outputs": [],
   "source": [
    "manila_heatindex_tomorrowio.boxplot('Maximum Heat Index')\n"
   ]
  },
  {
   "cell_type": "code",
   "execution_count": null,
   "metadata": {},
   "outputs": [],
   "source": [
    "phl_cities_heatindex_pasay_max"
   ]
  },
  {
   "cell_type": "code",
   "execution_count": null,
   "metadata": {},
   "outputs": [],
   "source": [
    "output_notebook()\n",
    "show(get_line_plot(pd.concat([manila_heatindex_tomorrowio, phl_cities_heatindex_pasay_max]), measure = 'Maximum Heat Index', title = 'Average Heat Index', subtitle = 'heat index calculated from Tomorrow.io', source= 'Tomorrow.io'))"
   ]
  },
  {
   "cell_type": "code",
   "execution_count": null,
   "metadata": {},
   "outputs": [],
   "source": [
    "output_notebook()\n",
    "show(get_line_plot(phl_cities_heatindex_pasay, measure = 'Average Heat Index', title = 'Average Heat Index', subtitle = 'heat index calculated from NWS(2011)', source= 'PAGASA, Govt of Philippines'))"
   ]
  },
  {
   "cell_type": "code",
   "execution_count": null,
   "metadata": {},
   "outputs": [],
   "source": [
    "output_notebook()\n",
    "show(get_line_plot(phl_cities_hwdi_mean2, measure = 'heat_waves_per_time_period', title = 'Heatwaves per time period', subtitle = 'heatwave is defined as 2 consecutive days where the mean temperature is more than 5 degrees of the mean temperature of the baseline from 1948 to 2014', source= 'GLDAS data with analysis from the Data Lab, World Bank'))"
   ]
  },
  {
   "cell_type": "code",
   "execution_count": null,
   "metadata": {},
   "outputs": [],
   "source": [
    "output_notebook()\n",
    "from bokeh.models import Panel\n",
    "bokeh.core.validation.silence(EMPTY_LAYOUT, True)\n",
    "bokeh.core.validation.silence(MISSING_RENDERERS, True)\n",
    "\n",
    "tabs = []\n",
    "\n",
    "for value in list(['min', 'max', 'mean']):\n",
    "\n",
    "    tabs.append(Panel(child=get_line_plot(phl_cities_heatindex_year.reset_index(), f\"Heat Index Per Year\", \"Source: ACLED\",measure=value,  subtitle = 'Heat index is calculated using both temperature and relative humidity'), title=value.capitalize()\n",
    "                ))\n",
    "\n",
    "tabs = Tabs(tabs=tabs, sizing_mode=\"scale_both\")\n",
    "show(tabs, warn_on_missing_glyphs=False)"
   ]
  },
  {
   "cell_type": "code",
   "execution_count": null,
   "metadata": {},
   "outputs": [],
   "source": [
    "output_notebook()\n",
    "from bokeh.models import Panel\n",
    "bokeh.core.validation.silence(EMPTY_LAYOUT, True)\n",
    "bokeh.core.validation.silence(MISSING_RENDERERS, True)\n",
    "\n",
    "tabs = []\n",
    "\n",
    "for value in list(['min', 'max', 'mean']):\n",
    "\n",
    "    tabs.append(Panel(child=get_line_plot(phl_cities_heatindex_month.reset_index(), f\"Heat Index Per Year\", \"Source: ACLED\",measure=value,  subtitle = 'Heat index is calculated using both temperature and relative humidity'), title=value.capitalize()\n",
    "                ))\n",
    "\n",
    "tabs = Tabs(tabs=tabs, sizing_mode=\"scale_both\")\n",
    "show(tabs, warn_on_missing_glyphs=False)"
   ]
  },
  {
   "cell_type": "code",
   "execution_count": null,
   "metadata": {},
   "outputs": [],
   "source": [
    "output_notebook()\n",
    "phl_cities_heatindex_month.reset_index(inplace=True)\n",
    "show(get_line_plot(phl_cities_heatindex_month, measure = 'max', title = 'Max Heat Index Per Month', subtitle = 'Heat index is calculated using both temperature and relative humidity', source= 'GLDAS data with analysis from the Data Lab, World Bank'))"
   ]
  }
 ],
 "metadata": {
  "kernelspec": {
   "display_name": "Python 3",
   "language": "python",
   "name": "python3"
  },
  "language_info": {
   "codemirror_mode": {
    "name": "ipython",
    "version": 3
   },
   "file_extension": ".py",
   "mimetype": "text/x-python",
   "name": "python",
   "nbconvert_exporter": "python",
   "pygments_lexer": "ipython3",
   "version": "3.9.13"
  }
 },
 "nbformat": 4,
 "nbformat_minor": 2
}
