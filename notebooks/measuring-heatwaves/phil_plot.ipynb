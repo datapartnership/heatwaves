{
 "cells": [
  {
   "cell_type": "code",
   "execution_count": 1,
   "id": "10446555",
   "metadata": {},
   "outputs": [],
   "source": [
    "import geopandas\n",
    "import numpy as np\n",
    "import pandas as pd\n",
    "import bokeh\n",
    "from bokeh.models import ColumnDataSource, HoverTool, Legend, Span, Tabs, Text, Title\n",
    "from bokeh.plotting import figure, output_notebook, show\n",
    "from shapely.geometry import Polygon\n",
    "import matplotlib.pyplot as plt\n",
    "import rasterio"
   ]
  },
  {
   "attachments": {},
   "cell_type": "markdown",
   "id": "cf2e4cc6",
   "metadata": {},
   "source": [
    "# Philippines Population\n",
    "\n",
    "This notebook plots the foundational dataset for Philippines, its population, from two sources - Meta's High Resolution Population Layer and WorldPop. \n",
    "\n",
    "The shapefiles are obtained from HdX."
   ]
  },
  {
   "cell_type": "code",
   "execution_count": 2,
   "id": "fb37bf6a",
   "metadata": {},
   "outputs": [],
   "source": [
    "PHILIPPINES_ADM0 = geopandas.read_file('../../data/shapefiles/Philippines/phl_adminboundaries_candidate_exclude_adm3/phl_admbnda_adm0_singlepart_psa_namria_itos_20200529.shp')\n",
    "PHILIPPINES_ADM1 = geopandas.read_file('../../data/shapefiles/Philippines/phl_adminboundaries_candidate_exclude_adm3/phl_admbnda_adm1_psa_namria_20200529.shp')\n",
    "PHILIPPINES_ADM2 = geopandas.read_file('../../data/shapefiles/Philippines/phl_adminboundaries_candidate_exclude_adm3/phl_admbnda_adm2_psa_namria_20200529.shp')"
   ]
  },
  {
   "cell_type": "code",
   "execution_count": 12,
   "id": "baa056bd",
   "metadata": {},
   "outputs": [],
   "source": [
    "PHILIPPINES_ADM0.plot()"
   ]
  },
  {
   "cell_type": "code",
   "execution_count": 4,
   "id": "a10d3ca0",
   "metadata": {},
   "outputs": [],
   "source": [
    "worldpop=rasterio.open('../../data/population/phl_ppp_2020.tif')"
   ]
  },
  {
   "cell_type": "code",
   "execution_count": 6,
   "id": "e31739ac",
   "metadata": {},
   "outputs": [],
   "source": [
    "meta = pd.read_csv('../../data/population/phl_general_2020.csv')"
   ]
  },
  {
   "cell_type": "code",
   "execution_count": 8,
   "id": "23ed3544",
   "metadata": {},
   "outputs": [],
   "source": [
    "meta = geopandas.GeoDataFrame(\n",
    "    meta, geometry=geopandas.points_from_xy(meta.longitude, meta.latitude), crs=\"EPSG:4326\"\n",
    ")"
   ]
  },
  {
   "cell_type": "code",
   "execution_count": 10,
   "id": "960bf53f",
   "metadata": {},
   "outputs": [],
   "source": [
    "PHPopulationAdm2 = PHILIPPINES_ADM2.sjoin(meta)"
   ]
  },
  {
   "cell_type": "code",
   "execution_count": 14,
   "id": "59445b35",
   "metadata": {},
   "outputs": [
    {
     "ename": "MemoryError",
     "evalue": "Unable to allocate 508. MiB for an array with shape (7, 9512020) and data type object",
     "output_type": "error",
     "traceback": [
      "\u001b[1;31m---------------------------------------------------------------------------\u001b[0m",
      "\u001b[1;31mMemoryError\u001b[0m                               Traceback (most recent call last)",
      "Cell \u001b[1;32mIn[14], line 1\u001b[0m\n\u001b[1;32m----> 1\u001b[0m PHPopulationAdm1 \u001b[39m=\u001b[39m PHILIPPINES_ADM1\u001b[39m.\u001b[39;49msjoin(meta)\n",
      "File \u001b[1;32mc:\\Users\\sahit\\anaconda3\\envs\\heatwaves\\lib\\site-packages\\geopandas\\geodataframe.py:2061\u001b[0m, in \u001b[0;36mGeoDataFrame.sjoin\u001b[1;34m(self, df, *args, **kwargs)\u001b[0m\n\u001b[0;32m   1983\u001b[0m \u001b[39mdef\u001b[39;00m \u001b[39msjoin\u001b[39m(\u001b[39mself\u001b[39m, df, \u001b[39m*\u001b[39margs, \u001b[39m*\u001b[39m\u001b[39m*\u001b[39mkwargs):\n\u001b[0;32m   1984\u001b[0m \u001b[39m    \u001b[39m\u001b[39m\"\"\"Spatial join of two GeoDataFrames.\u001b[39;00m\n\u001b[0;32m   1985\u001b[0m \n\u001b[0;32m   1986\u001b[0m \u001b[39m    See the User Guide page :doc:`../../user_guide/mergingdata` for details.\u001b[39;00m\n\u001b[1;32m   (...)\u001b[0m\n\u001b[0;32m   2059\u001b[0m \u001b[39m    sjoin : equivalent top-level function\u001b[39;00m\n\u001b[0;32m   2060\u001b[0m \u001b[39m    \"\"\"\u001b[39;00m\n\u001b[1;32m-> 2061\u001b[0m     \u001b[39mreturn\u001b[39;00m geopandas\u001b[39m.\u001b[39msjoin(left_df\u001b[39m=\u001b[39m\u001b[39mself\u001b[39m, right_df\u001b[39m=\u001b[39mdf, \u001b[39m*\u001b[39margs, \u001b[39m*\u001b[39m\u001b[39m*\u001b[39mkwargs)\n",
      "File \u001b[1;32mc:\\Users\\sahit\\anaconda3\\envs\\heatwaves\\lib\\site-packages\\geopandas\\tools\\sjoin.py:126\u001b[0m, in \u001b[0;36msjoin\u001b[1;34m(left_df, right_df, how, predicate, lsuffix, rsuffix, **kwargs)\u001b[0m\n\u001b[0;32m    122\u001b[0m _basic_checks(left_df, right_df, how, lsuffix, rsuffix)\n\u001b[0;32m    124\u001b[0m indices \u001b[39m=\u001b[39m _geom_predicate_query(left_df, right_df, predicate)\n\u001b[1;32m--> 126\u001b[0m joined \u001b[39m=\u001b[39m _frame_join(indices, left_df, right_df, how, lsuffix, rsuffix)\n\u001b[0;32m    128\u001b[0m \u001b[39mreturn\u001b[39;00m joined\n",
      "File \u001b[1;32mc:\\Users\\sahit\\anaconda3\\envs\\heatwaves\\lib\\site-packages\\geopandas\\tools\\sjoin.py:298\u001b[0m, in \u001b[0;36m_frame_join\u001b[1;34m(join_df, left_df, right_df, how, lsuffix, rsuffix)\u001b[0m\n\u001b[0;32m    295\u001b[0m \u001b[39mif\u001b[39;00m how \u001b[39m==\u001b[39m \u001b[39m\"\u001b[39m\u001b[39minner\u001b[39m\u001b[39m\"\u001b[39m:\n\u001b[0;32m    296\u001b[0m     join_df \u001b[39m=\u001b[39m join_df\u001b[39m.\u001b[39mset_index(\u001b[39m\"\u001b[39m\u001b[39m_key_left\u001b[39m\u001b[39m\"\u001b[39m)\n\u001b[0;32m    297\u001b[0m     joined \u001b[39m=\u001b[39m (\n\u001b[1;32m--> 298\u001b[0m         left_df\u001b[39m.\u001b[39;49mmerge(join_df, left_index\u001b[39m=\u001b[39;49m\u001b[39mTrue\u001b[39;49;00m, right_index\u001b[39m=\u001b[39;49m\u001b[39mTrue\u001b[39;49;00m)\n\u001b[0;32m    299\u001b[0m         \u001b[39m.\u001b[39mmerge(\n\u001b[0;32m    300\u001b[0m             right_df\u001b[39m.\u001b[39mdrop(right_df\u001b[39m.\u001b[39mgeometry\u001b[39m.\u001b[39mname, axis\u001b[39m=\u001b[39m\u001b[39m1\u001b[39m),\n\u001b[0;32m    301\u001b[0m             left_on\u001b[39m=\u001b[39m\u001b[39m\"\u001b[39m\u001b[39m_key_right\u001b[39m\u001b[39m\"\u001b[39m,\n\u001b[0;32m    302\u001b[0m             right_index\u001b[39m=\u001b[39m\u001b[39mTrue\u001b[39;00m,\n\u001b[0;32m    303\u001b[0m             suffixes\u001b[39m=\u001b[39m(\u001b[39m\"\u001b[39m\u001b[39m_\u001b[39m\u001b[39m{}\u001b[39;00m\u001b[39m\"\u001b[39m\u001b[39m.\u001b[39mformat(lsuffix), \u001b[39m\"\u001b[39m\u001b[39m_\u001b[39m\u001b[39m{}\u001b[39;00m\u001b[39m\"\u001b[39m\u001b[39m.\u001b[39mformat(rsuffix)),\n\u001b[0;32m    304\u001b[0m         )\n\u001b[0;32m    305\u001b[0m         \u001b[39m.\u001b[39mset_index(index_left)\n\u001b[0;32m    306\u001b[0m         \u001b[39m.\u001b[39mdrop([\u001b[39m\"\u001b[39m\u001b[39m_key_right\u001b[39m\u001b[39m\"\u001b[39m], axis\u001b[39m=\u001b[39m\u001b[39m1\u001b[39m)\n\u001b[0;32m    307\u001b[0m     )\n\u001b[0;32m    308\u001b[0m     \u001b[39mif\u001b[39;00m \u001b[39misinstance\u001b[39m(index_left, \u001b[39mlist\u001b[39m):\n\u001b[0;32m    309\u001b[0m         joined\u001b[39m.\u001b[39mindex\u001b[39m.\u001b[39mnames \u001b[39m=\u001b[39m left_index_name\n",
      "File \u001b[1;32mc:\\Users\\sahit\\anaconda3\\envs\\heatwaves\\lib\\site-packages\\geopandas\\geodataframe.py:1470\u001b[0m, in \u001b[0;36mGeoDataFrame.merge\u001b[1;34m(self, *args, **kwargs)\u001b[0m\n\u001b[0;32m   1449\u001b[0m \u001b[39mdef\u001b[39;00m \u001b[39mmerge\u001b[39m(\u001b[39mself\u001b[39m, \u001b[39m*\u001b[39margs, \u001b[39m*\u001b[39m\u001b[39m*\u001b[39mkwargs):\n\u001b[0;32m   1450\u001b[0m \u001b[39m    \u001b[39m\u001b[39mr\u001b[39m\u001b[39m\"\"\"Merge two ``GeoDataFrame`` objects with a database-style join.\u001b[39;00m\n\u001b[0;32m   1451\u001b[0m \n\u001b[0;32m   1452\u001b[0m \u001b[39m    Returns a ``GeoDataFrame`` if a geometry column is present; otherwise,\u001b[39;00m\n\u001b[1;32m   (...)\u001b[0m\n\u001b[0;32m   1468\u001b[0m \n\u001b[0;32m   1469\u001b[0m \u001b[39m    \"\"\"\u001b[39;00m\n\u001b[1;32m-> 1470\u001b[0m     result \u001b[39m=\u001b[39m DataFrame\u001b[39m.\u001b[39mmerge(\u001b[39mself\u001b[39m, \u001b[39m*\u001b[39margs, \u001b[39m*\u001b[39m\u001b[39m*\u001b[39mkwargs)\n\u001b[0;32m   1471\u001b[0m     geo_col \u001b[39m=\u001b[39m \u001b[39mself\u001b[39m\u001b[39m.\u001b[39m_geometry_column_name\n\u001b[0;32m   1472\u001b[0m     \u001b[39mif\u001b[39;00m \u001b[39misinstance\u001b[39m(result, DataFrame) \u001b[39mand\u001b[39;00m geo_col \u001b[39min\u001b[39;00m result:\n",
      "File \u001b[1;32mc:\\Users\\sahit\\anaconda3\\envs\\heatwaves\\lib\\site-packages\\pandas\\core\\frame.py:9351\u001b[0m, in \u001b[0;36mDataFrame.merge\u001b[1;34m(self, right, how, on, left_on, right_on, left_index, right_index, sort, suffixes, copy, indicator, validate)\u001b[0m\n\u001b[0;32m   9332\u001b[0m \u001b[39m@Substitution\u001b[39m(\u001b[39m\"\u001b[39m\u001b[39m\"\u001b[39m)\n\u001b[0;32m   9333\u001b[0m \u001b[39m@Appender\u001b[39m(_merge_doc, indents\u001b[39m=\u001b[39m\u001b[39m2\u001b[39m)\n\u001b[0;32m   9334\u001b[0m \u001b[39mdef\u001b[39;00m \u001b[39mmerge\u001b[39m(\n\u001b[1;32m   (...)\u001b[0m\n\u001b[0;32m   9347\u001b[0m     validate: \u001b[39mstr\u001b[39m \u001b[39m|\u001b[39m \u001b[39mNone\u001b[39;00m \u001b[39m=\u001b[39m \u001b[39mNone\u001b[39;00m,\n\u001b[0;32m   9348\u001b[0m ) \u001b[39m-\u001b[39m\u001b[39m>\u001b[39m DataFrame:\n\u001b[0;32m   9349\u001b[0m     \u001b[39mfrom\u001b[39;00m \u001b[39mpandas\u001b[39;00m\u001b[39m.\u001b[39;00m\u001b[39mcore\u001b[39;00m\u001b[39m.\u001b[39;00m\u001b[39mreshape\u001b[39;00m\u001b[39m.\u001b[39;00m\u001b[39mmerge\u001b[39;00m \u001b[39mimport\u001b[39;00m merge\n\u001b[1;32m-> 9351\u001b[0m     \u001b[39mreturn\u001b[39;00m merge(\n\u001b[0;32m   9352\u001b[0m         \u001b[39mself\u001b[39;49m,\n\u001b[0;32m   9353\u001b[0m         right,\n\u001b[0;32m   9354\u001b[0m         how\u001b[39m=\u001b[39;49mhow,\n\u001b[0;32m   9355\u001b[0m         on\u001b[39m=\u001b[39;49mon,\n\u001b[0;32m   9356\u001b[0m         left_on\u001b[39m=\u001b[39;49mleft_on,\n\u001b[0;32m   9357\u001b[0m         right_on\u001b[39m=\u001b[39;49mright_on,\n\u001b[0;32m   9358\u001b[0m         left_index\u001b[39m=\u001b[39;49mleft_index,\n\u001b[0;32m   9359\u001b[0m         right_index\u001b[39m=\u001b[39;49mright_index,\n\u001b[0;32m   9360\u001b[0m         sort\u001b[39m=\u001b[39;49msort,\n\u001b[0;32m   9361\u001b[0m         suffixes\u001b[39m=\u001b[39;49msuffixes,\n\u001b[0;32m   9362\u001b[0m         copy\u001b[39m=\u001b[39;49mcopy,\n\u001b[0;32m   9363\u001b[0m         indicator\u001b[39m=\u001b[39;49mindicator,\n\u001b[0;32m   9364\u001b[0m         validate\u001b[39m=\u001b[39;49mvalidate,\n\u001b[0;32m   9365\u001b[0m     )\n",
      "File \u001b[1;32mc:\\Users\\sahit\\anaconda3\\envs\\heatwaves\\lib\\site-packages\\pandas\\core\\reshape\\merge.py:122\u001b[0m, in \u001b[0;36mmerge\u001b[1;34m(left, right, how, on, left_on, right_on, left_index, right_index, sort, suffixes, copy, indicator, validate)\u001b[0m\n\u001b[0;32m     90\u001b[0m \u001b[39m@Substitution\u001b[39m(\u001b[39m\"\u001b[39m\u001b[39m\\n\u001b[39;00m\u001b[39mleft : DataFrame or named Series\u001b[39m\u001b[39m\"\u001b[39m)\n\u001b[0;32m     91\u001b[0m \u001b[39m@Appender\u001b[39m(_merge_doc, indents\u001b[39m=\u001b[39m\u001b[39m0\u001b[39m)\n\u001b[0;32m     92\u001b[0m \u001b[39mdef\u001b[39;00m \u001b[39mmerge\u001b[39m(\n\u001b[1;32m   (...)\u001b[0m\n\u001b[0;32m    105\u001b[0m     validate: \u001b[39mstr\u001b[39m \u001b[39m|\u001b[39m \u001b[39mNone\u001b[39;00m \u001b[39m=\u001b[39m \u001b[39mNone\u001b[39;00m,\n\u001b[0;32m    106\u001b[0m ) \u001b[39m-\u001b[39m\u001b[39m>\u001b[39m DataFrame:\n\u001b[0;32m    107\u001b[0m     op \u001b[39m=\u001b[39m _MergeOperation(\n\u001b[0;32m    108\u001b[0m         left,\n\u001b[0;32m    109\u001b[0m         right,\n\u001b[1;32m   (...)\u001b[0m\n\u001b[0;32m    120\u001b[0m         validate\u001b[39m=\u001b[39mvalidate,\n\u001b[0;32m    121\u001b[0m     )\n\u001b[1;32m--> 122\u001b[0m     \u001b[39mreturn\u001b[39;00m op\u001b[39m.\u001b[39;49mget_result()\n",
      "File \u001b[1;32mc:\\Users\\sahit\\anaconda3\\envs\\heatwaves\\lib\\site-packages\\pandas\\core\\reshape\\merge.py:725\u001b[0m, in \u001b[0;36m_MergeOperation.get_result\u001b[1;34m(self)\u001b[0m\n\u001b[0;32m    722\u001b[0m lindexers \u001b[39m=\u001b[39m {\u001b[39m1\u001b[39m: left_indexer} \u001b[39mif\u001b[39;00m left_indexer \u001b[39mis\u001b[39;00m \u001b[39mnot\u001b[39;00m \u001b[39mNone\u001b[39;00m \u001b[39melse\u001b[39;00m {}\n\u001b[0;32m    723\u001b[0m rindexers \u001b[39m=\u001b[39m {\u001b[39m1\u001b[39m: right_indexer} \u001b[39mif\u001b[39;00m right_indexer \u001b[39mis\u001b[39;00m \u001b[39mnot\u001b[39;00m \u001b[39mNone\u001b[39;00m \u001b[39melse\u001b[39;00m {}\n\u001b[1;32m--> 725\u001b[0m result_data \u001b[39m=\u001b[39m concatenate_managers(\n\u001b[0;32m    726\u001b[0m     [(\u001b[39mself\u001b[39;49m\u001b[39m.\u001b[39;49mleft\u001b[39m.\u001b[39;49m_mgr, lindexers), (\u001b[39mself\u001b[39;49m\u001b[39m.\u001b[39;49mright\u001b[39m.\u001b[39;49m_mgr, rindexers)],\n\u001b[0;32m    727\u001b[0m     axes\u001b[39m=\u001b[39;49m[llabels\u001b[39m.\u001b[39;49mappend(rlabels), join_index],\n\u001b[0;32m    728\u001b[0m     concat_axis\u001b[39m=\u001b[39;49m\u001b[39m0\u001b[39;49m,\n\u001b[0;32m    729\u001b[0m     copy\u001b[39m=\u001b[39;49m\u001b[39mself\u001b[39;49m\u001b[39m.\u001b[39;49mcopy,\n\u001b[0;32m    730\u001b[0m )\n\u001b[0;32m    732\u001b[0m typ \u001b[39m=\u001b[39m \u001b[39mself\u001b[39m\u001b[39m.\u001b[39mleft\u001b[39m.\u001b[39m_constructor\n\u001b[0;32m    733\u001b[0m result \u001b[39m=\u001b[39m typ(result_data)\u001b[39m.\u001b[39m__finalize__(\u001b[39mself\u001b[39m, method\u001b[39m=\u001b[39m\u001b[39mself\u001b[39m\u001b[39m.\u001b[39m_merge_type)\n",
      "File \u001b[1;32mc:\\Users\\sahit\\anaconda3\\envs\\heatwaves\\lib\\site-packages\\pandas\\core\\internals\\concat.py:242\u001b[0m, in \u001b[0;36mconcatenate_managers\u001b[1;34m(mgrs_indexers, axes, concat_axis, copy)\u001b[0m\n\u001b[0;32m    240\u001b[0m     fastpath \u001b[39m=\u001b[39m blk\u001b[39m.\u001b[39mvalues\u001b[39m.\u001b[39mdtype \u001b[39m==\u001b[39m values\u001b[39m.\u001b[39mdtype\n\u001b[0;32m    241\u001b[0m \u001b[39melse\u001b[39;00m:\n\u001b[1;32m--> 242\u001b[0m     values \u001b[39m=\u001b[39m _concatenate_join_units(join_units, concat_axis, copy\u001b[39m=\u001b[39;49mcopy)\n\u001b[0;32m    243\u001b[0m     fastpath \u001b[39m=\u001b[39m \u001b[39mFalse\u001b[39;00m\n\u001b[0;32m    245\u001b[0m \u001b[39mif\u001b[39;00m fastpath:\n",
      "File \u001b[1;32mc:\\Users\\sahit\\anaconda3\\envs\\heatwaves\\lib\\site-packages\\pandas\\core\\internals\\concat.py:545\u001b[0m, in \u001b[0;36m_concatenate_join_units\u001b[1;34m(join_units, concat_axis, copy)\u001b[0m\n\u001b[0;32m    542\u001b[0m has_none_blocks \u001b[39m=\u001b[39m \u001b[39many\u001b[39m(unit\u001b[39m.\u001b[39mblock\u001b[39m.\u001b[39mdtype\u001b[39m.\u001b[39mkind \u001b[39m==\u001b[39m \u001b[39m\"\u001b[39m\u001b[39mV\u001b[39m\u001b[39m\"\u001b[39m \u001b[39mfor\u001b[39;00m unit \u001b[39min\u001b[39;00m join_units)\n\u001b[0;32m    543\u001b[0m upcasted_na \u001b[39m=\u001b[39m _dtype_to_na_value(empty_dtype, has_none_blocks)\n\u001b[1;32m--> 545\u001b[0m to_concat \u001b[39m=\u001b[39m [\n\u001b[0;32m    546\u001b[0m     ju\u001b[39m.\u001b[39mget_reindexed_values(empty_dtype\u001b[39m=\u001b[39mempty_dtype, upcasted_na\u001b[39m=\u001b[39mupcasted_na)\n\u001b[0;32m    547\u001b[0m     \u001b[39mfor\u001b[39;00m ju \u001b[39min\u001b[39;00m join_units\n\u001b[0;32m    548\u001b[0m ]\n\u001b[0;32m    550\u001b[0m \u001b[39mif\u001b[39;00m \u001b[39mlen\u001b[39m(to_concat) \u001b[39m==\u001b[39m \u001b[39m1\u001b[39m:\n\u001b[0;32m    551\u001b[0m     \u001b[39m# Only one block, nothing to concatenate.\u001b[39;00m\n\u001b[0;32m    552\u001b[0m     concat_values \u001b[39m=\u001b[39m to_concat[\u001b[39m0\u001b[39m]\n",
      "File \u001b[1;32mc:\\Users\\sahit\\anaconda3\\envs\\heatwaves\\lib\\site-packages\\pandas\\core\\internals\\concat.py:546\u001b[0m, in \u001b[0;36m<listcomp>\u001b[1;34m(.0)\u001b[0m\n\u001b[0;32m    542\u001b[0m has_none_blocks \u001b[39m=\u001b[39m \u001b[39many\u001b[39m(unit\u001b[39m.\u001b[39mblock\u001b[39m.\u001b[39mdtype\u001b[39m.\u001b[39mkind \u001b[39m==\u001b[39m \u001b[39m\"\u001b[39m\u001b[39mV\u001b[39m\u001b[39m\"\u001b[39m \u001b[39mfor\u001b[39;00m unit \u001b[39min\u001b[39;00m join_units)\n\u001b[0;32m    543\u001b[0m upcasted_na \u001b[39m=\u001b[39m _dtype_to_na_value(empty_dtype, has_none_blocks)\n\u001b[0;32m    545\u001b[0m to_concat \u001b[39m=\u001b[39m [\n\u001b[1;32m--> 546\u001b[0m     ju\u001b[39m.\u001b[39;49mget_reindexed_values(empty_dtype\u001b[39m=\u001b[39;49mempty_dtype, upcasted_na\u001b[39m=\u001b[39;49mupcasted_na)\n\u001b[0;32m    547\u001b[0m     \u001b[39mfor\u001b[39;00m ju \u001b[39min\u001b[39;00m join_units\n\u001b[0;32m    548\u001b[0m ]\n\u001b[0;32m    550\u001b[0m \u001b[39mif\u001b[39;00m \u001b[39mlen\u001b[39m(to_concat) \u001b[39m==\u001b[39m \u001b[39m1\u001b[39m:\n\u001b[0;32m    551\u001b[0m     \u001b[39m# Only one block, nothing to concatenate.\u001b[39;00m\n\u001b[0;32m    552\u001b[0m     concat_values \u001b[39m=\u001b[39m to_concat[\u001b[39m0\u001b[39m]\n",
      "File \u001b[1;32mc:\\Users\\sahit\\anaconda3\\envs\\heatwaves\\lib\\site-packages\\pandas\\core\\internals\\concat.py:525\u001b[0m, in \u001b[0;36mJoinUnit.get_reindexed_values\u001b[1;34m(self, empty_dtype, upcasted_na)\u001b[0m\n\u001b[0;32m    523\u001b[0m \u001b[39melse\u001b[39;00m:\n\u001b[0;32m    524\u001b[0m     \u001b[39mfor\u001b[39;00m ax, indexer \u001b[39min\u001b[39;00m \u001b[39mself\u001b[39m\u001b[39m.\u001b[39mindexers\u001b[39m.\u001b[39mitems():\n\u001b[1;32m--> 525\u001b[0m         values \u001b[39m=\u001b[39m algos\u001b[39m.\u001b[39;49mtake_nd(values, indexer, axis\u001b[39m=\u001b[39;49max)\n\u001b[0;32m    527\u001b[0m \u001b[39mreturn\u001b[39;00m values\n",
      "File \u001b[1;32mc:\\Users\\sahit\\anaconda3\\envs\\heatwaves\\lib\\site-packages\\pandas\\core\\array_algos\\take.py:117\u001b[0m, in \u001b[0;36mtake_nd\u001b[1;34m(arr, indexer, axis, fill_value, allow_fill)\u001b[0m\n\u001b[0;32m    114\u001b[0m     \u001b[39mreturn\u001b[39;00m arr\u001b[39m.\u001b[39mtake(indexer, fill_value\u001b[39m=\u001b[39mfill_value, allow_fill\u001b[39m=\u001b[39mallow_fill)\n\u001b[0;32m    116\u001b[0m arr \u001b[39m=\u001b[39m np\u001b[39m.\u001b[39masarray(arr)\n\u001b[1;32m--> 117\u001b[0m \u001b[39mreturn\u001b[39;00m _take_nd_ndarray(arr, indexer, axis, fill_value, allow_fill)\n",
      "File \u001b[1;32mc:\\Users\\sahit\\anaconda3\\envs\\heatwaves\\lib\\site-packages\\pandas\\core\\array_algos\\take.py:158\u001b[0m, in \u001b[0;36m_take_nd_ndarray\u001b[1;34m(arr, indexer, axis, fill_value, allow_fill)\u001b[0m\n\u001b[0;32m    156\u001b[0m     out \u001b[39m=\u001b[39m np\u001b[39m.\u001b[39mempty(out_shape, dtype\u001b[39m=\u001b[39mdtype, order\u001b[39m=\u001b[39m\u001b[39m\"\u001b[39m\u001b[39mF\u001b[39m\u001b[39m\"\u001b[39m)\n\u001b[0;32m    157\u001b[0m \u001b[39melse\u001b[39;00m:\n\u001b[1;32m--> 158\u001b[0m     out \u001b[39m=\u001b[39m np\u001b[39m.\u001b[39;49mempty(out_shape, dtype\u001b[39m=\u001b[39;49mdtype)\n\u001b[0;32m    160\u001b[0m func \u001b[39m=\u001b[39m _get_take_nd_function(\n\u001b[0;32m    161\u001b[0m     arr\u001b[39m.\u001b[39mndim, arr\u001b[39m.\u001b[39mdtype, out\u001b[39m.\u001b[39mdtype, axis\u001b[39m=\u001b[39maxis, mask_info\u001b[39m=\u001b[39mmask_info\n\u001b[0;32m    162\u001b[0m )\n\u001b[0;32m    163\u001b[0m func(arr, indexer, out, fill_value)\n",
      "\u001b[1;31mMemoryError\u001b[0m: Unable to allocate 508. MiB for an array with shape (7, 9512020) and data type object"
     ]
    }
   ],
   "source": [
    "PHPopulationAdm1 = PHILIPPINES_ADM1.sjoin(meta)"
   ]
  },
  {
   "cell_type": "code",
   "execution_count": null,
   "id": "a8aa0d31",
   "metadata": {},
   "outputs": [
    {
     "data": {
      "image/png": "[encoded data removed]",
      "text/plain": [
       "<Figure size 432x288 with 1 Axes>"
      ]
     },
     "metadata": {
      "needs_background": "light"
     },
     "output_type": "display_data"
    }
   ],
   "source": [
    "from rasterio.plot import show\n",
    "\n",
    "fig, ax = plt.subplots()\n",
    "\n",
    "extent = [worldpop.bounds[0], worldpop.bounds[2], worldpop.bounds[1], worldpop.bounds[3]]\n",
    "ax = rasterio.plot.show(worldpop, extent=extent, ax=ax, cmap=\"pink\")\n"
   ]
  },
  {
   "cell_type": "code",
   "execution_count": null,
   "id": "7f3408b1",
   "metadata": {},
   "outputs": [
    {
     "data": {
      "text/plain": [
       "CRS.from_epsg(4326)"
      ]
     },
     "execution_count": 14,
     "metadata": {},
     "output_type": "execute_result"
    }
   ],
   "source": [
    "worldpop.crs"
   ]
  },
  {
   "cell_type": "code",
   "execution_count": null,
   "id": "dc93a652",
   "metadata": {},
   "outputs": [
    {
     "ename": "NameError",
     "evalue": "name 'rioxarray' is not defined",
     "output_type": "error",
     "traceback": [
      "\u001b[0;31m---------------------------------------------------------------------------\u001b[0m",
      "\u001b[0;31mNameError\u001b[0m                                 Traceback (most recent call last)",
      "Input \u001b[0;32mIn [19]\u001b[0m, in \u001b[0;36m<cell line: 1>\u001b[0;34m()\u001b[0m\n\u001b[0;32m----> 1\u001b[0m rds \u001b[38;5;241m=\u001b[39m \u001b[43mrioxarray\u001b[49m\u001b[38;5;241m.\u001b[39mopen_rasterio(path\u001b[38;5;241m+\u001b[39m\u001b[38;5;124m'\u001b[39m\u001b[38;5;124mphl_ppp_2020.tif\u001b[39m\u001b[38;5;124m'\u001b[39m)\n\u001b[1;32m      2\u001b[0m rds\u001b[38;5;241m.\u001b[39mname \u001b[38;5;241m=\u001b[39m \u001b[38;5;124m\"\u001b[39m\u001b[38;5;124mdata\u001b[39m\u001b[38;5;124m\"\u001b[39m\n\u001b[1;32m      3\u001b[0m df \u001b[38;5;241m=\u001b[39m rds\u001b[38;5;241m.\u001b[39msqueeze()\u001b[38;5;241m.\u001b[39mto_dataframe()\u001b[38;5;241m.\u001b[39mreset_index()\n",
      "\u001b[0;31mNameError\u001b[0m: name 'rioxarray' is not defined"
     ]
    }
   ],
   "source": [
    "rds = rioxarray.open_rasterio(path+'phl_ppp_2020.tif')\n",
    "rds.name = \"data\"\n",
    "df = rds.squeeze().to_dataframe().reset_index()\n",
    "geometry = gpd.points_from_xy(df.x, df.y)\n",
    "gdf = gpd.GeoDataFrame(df, crs=rds.rio.crs, geometry=geometry)"
   ]
  },
  {
   "cell_type": "code",
   "execution_count": null,
   "id": "460d8e63",
   "metadata": {},
   "outputs": [
    {
     "ename": "AttributeError",
     "evalue": "'DatasetReader' object has no attribute 'sjoin'",
     "output_type": "error",
     "traceback": [
      "\u001b[0;31m---------------------------------------------------------------------------\u001b[0m",
      "\u001b[0;31mAttributeError\u001b[0m                            Traceback (most recent call last)",
      "Input \u001b[0;32mIn [15]\u001b[0m, in \u001b[0;36m<cell line: 1>\u001b[0;34m()\u001b[0m\n\u001b[0;32m----> 1\u001b[0m pop_by_town\u001b[38;5;241m=\u001b[39m\u001b[43mworldpop\u001b[49m\u001b[38;5;241;43m.\u001b[39;49m\u001b[43msjoin\u001b[49m(geo_phil,how\u001b[38;5;241m=\u001b[39m\u001b[38;5;124m\"\u001b[39m\u001b[38;5;124minner\u001b[39m\u001b[38;5;124m\"\u001b[39m)\n",
      "\u001b[0;31mAttributeError\u001b[0m: 'DatasetReader' object has no attribute 'sjoin'"
     ]
    }
   ],
   "source": [
    "pop_by_town=worldpop.sjoin(geo_phil,how=\"inner\")"
   ]
  },
  {
   "cell_type": "code",
   "execution_count": null,
   "id": "7ea2ac0e",
   "metadata": {},
   "outputs": [
    {
     "data": {
      "text/plain": [
       "CRS.from_epsg(4326)"
      ]
     },
     "execution_count": 18,
     "metadata": {},
     "output_type": "execute_result"
    }
   ],
   "source": [
    "treecover=rasterio.open(path+'Hansen_GFC-2022-v1.10_treecover2000_20N_120E.tif')\n",
    "treecover.crs"
   ]
  },
  {
   "cell_type": "code",
   "execution_count": null,
   "id": "98cd21cd",
   "metadata": {},
   "outputs": [
    {
     "data": {
      "image/png": "[encoded data removed]",
      "text/plain": [
       "<Figure size 432x288 with 1 Axes>"
      ]
     },
     "metadata": {
      "needs_background": "light"
     },
     "output_type": "display_data"
    }
   ],
   "source": [
    "from rasterio.plot import show\n",
    "\n",
    "fig, ax = plt.subplots()\n",
    "\n",
    "extent = [treecover.bounds[0], treecover.bounds[2], treecover.bounds[1], treecover.bounds[3]]\n",
    "ax = rasterio.plot.show(treecover, extent=extent, ax=ax, cmap=\"pink\")\n",
    "\n"
   ]
  },
  {
   "cell_type": "code",
   "execution_count": null,
   "id": "346b1ec2",
   "metadata": {},
   "outputs": [],
   "source": [
    "pop = geopandas.read_file(path+'phl_general_2020.csv')\n",
    "pop.head"
   ]
  },
  {
   "cell_type": "code",
   "execution_count": null,
   "id": "d6a0b077",
   "metadata": {},
   "outputs": [],
   "source": [
    "print(type(pop.longitude[2]))"
   ]
  },
  {
   "cell_type": "code",
   "execution_count": null,
   "id": "f7e33b52",
   "metadata": {},
   "outputs": [],
   "source": [
    "pop.plot()\n",
    "x=pop.latitude\n",
    "y=pop.longitude\n",
    "print(x,y)\n",
    "plt.scatter(x, y)\n",
    "plt.show()"
   ]
  },
  {
   "cell_type": "code",
   "execution_count": null,
   "id": "a2482475",
   "metadata": {},
   "outputs": [],
   "source": [
    "pop.crs=\"EPSG:3121\""
   ]
  },
  {
   "cell_type": "code",
   "execution_count": null,
   "id": "936639bd",
   "metadata": {},
   "outputs": [],
   "source": [
    "pop.head"
   ]
  },
  {
   "cell_type": "code",
   "execution_count": null,
   "id": "cbaac8ef",
   "metadata": {},
   "outputs": [],
   "source": [
    "geo_phil=geo_phil.to_crs(pop.crs)"
   ]
  },
  {
   "cell_type": "code",
   "execution_count": null,
   "id": "197e6f63",
   "metadata": {},
   "outputs": [],
   "source": [
    "geo_phil.crs"
   ]
  },
  {
   "cell_type": "code",
   "execution_count": null,
   "id": "510d9382",
   "metadata": {},
   "outputs": [],
   "source": [
    "pop_by_town=pop.sjoin(geo_phil,how=\"inner\")\n",
    "pop_by_town.head"
   ]
  },
  {
   "cell_type": "code",
   "execution_count": null,
   "id": "e9fb2ed0",
   "metadata": {},
   "outputs": [],
   "source": []
  }
 ],
 "metadata": {
  "kernelspec": {
   "display_name": "Python 3",
   "language": "python",
   "name": "python3"
  },
  "language_info": {
   "codemirror_mode": {
    "name": "ipython",
    "version": 3
   },
   "file_extension": ".py",
   "mimetype": "text/x-python",
   "name": "python",
   "nbconvert_exporter": "python",
   "pygments_lexer": "ipython3",
   "version": "3.10.11"
  }
 },
 "nbformat": 4,
 "nbformat_minor": 5
}
