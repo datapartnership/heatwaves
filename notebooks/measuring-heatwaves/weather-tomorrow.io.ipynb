{
 "cells": [
  {
   "attachments": {},
   "cell_type": "markdown",
   "metadata": {},
   "source": [
    "## Historical Max Temperature from Tomorrow.io API for Delhi, India\n",
    "\n",
    "We retrieve the max temperature (i.e., `temperatureMax`) for Delhi, India on [H3 resolution 7](https://h3geo.org) from the [Historical](https://docs.tomorrow.io/reference/historical) data layer of the [Tomorrow.io API](https://docs.tomorrow.io/reference/api-introduction)."
   ]
  },
  {
   "cell_type": "code",
   "execution_count": 1,
   "metadata": {},
   "outputs": [],
   "source": [
    "import asyncio\n",
    "import json\n",
    "import os\n",
    "from typing import Optional\n",
    "\n",
    "import geopandas\n",
    "import h3\n",
    "import pandas as pd\n",
    "import shapely\n",
    "from aiohttp import ClientSession\n",
    "from shapely.geometry import Polygon"
   ]
  },
  {
   "attachments": {},
   "cell_type": "markdown",
   "metadata": {},
   "source": [
    "The following are auxiliary function(s). Ideally, these will be packaged in an opportune moment."
   ]
  },
  {
   "cell_type": "code",
   "execution_count": 2,
   "metadata": {},
   "outputs": [],
   "source": [
    "def get_h3_tessellation(\n",
    "    gdf: geopandas.GeoDataFrame, name=\"shapeName\", resolution=10\n",
    ") -> geopandas.GeoDataFrame:\n",
    "    mapper = dict()\n",
    "    tiles = set()\n",
    "\n",
    "    # TODO: vectorize, if possible\n",
    "    for idx, row in gdf.iterrows():\n",
    "        geometry = row[\"geometry\"] \n",
    "        match geometry.geom_type:\n",
    "            case \"Polygon\":\n",
    "                hex_ids = h3.polyfill(\n",
    "                    shapely.geometry.mapping(geometry),\n",
    "                    resolution,\n",
    "                    geo_json_conformant=True,\n",
    "                )\n",
    "\n",
    "                tiles = tiles.union(set(hex_ids))\n",
    "                mapper.update([(hex_id, row[name]) for hex_id in hex_ids])\n",
    "\n",
    "            case \"MultiPolygon\":\n",
    "                for x in geometry.geoms:\n",
    "                    hex_ids = h3.polyfill(\n",
    "                        shapely.geometry.mapping(x),\n",
    "                        resolution,\n",
    "                        geo_json_conformant=True,\n",
    "                    )\n",
    "\n",
    "                    tiles = tiles.union(set(hex_ids))\n",
    "                    mapper.update([(hex_id, row[name]) for hex_id in hex_ids])\n",
    "            case _:\n",
    "                raise (Exception)\n",
    "\n",
    "    tessellation = geopandas.GeoDataFrame(\n",
    "        data=tiles,\n",
    "        geometry=[Polygon(h3.h3_to_geo_boundary(idx, True)) for idx in tiles],\n",
    "        columns=[\"hex_id\"],\n",
    "        crs=\"EPSG:4326\",\n",
    "    )\n",
    "\n",
    "    return tessellation"
   ]
  },
  {
   "cell_type": "code",
   "execution_count": 4,
   "metadata": {},
   "outputs": [],
   "source": [
    "# create the Tomorrow.io API token at https://app.tomorrow.io/development/keys\n",
    "TOMORROW_API_KEY = 'uyOL03vZtbjfkTwKIRFyzO1HOcgoigaa'"
   ]
  },
  {
   "attachments": {},
   "cell_type": "markdown",
   "metadata": {},
   "source": [
    "## Area of Interest: Chennai"
   ]
  },
  {
   "cell_type": "code",
   "execution_count": 4,
   "metadata": {},
   "outputs": [
    {
     "data": {
      "text/plain": [
       "'c:\\\\Users\\\\sahit\\\\OneDrive\\\\Documents\\\\01 World Bank\\\\India\\\\india-vulnerability-to-heatwaves\\\\notebooks'"
      ]
     },
     "execution_count": 4,
     "metadata": {},
     "output_type": "execute_result"
    }
   ],
   "source": [
    "import os\n",
    "os.getcwd()"
   ]
  },
  {
   "cell_type": "code",
   "execution_count": 5,
   "metadata": {},
   "outputs": [],
   "source": [
    "INDIA = geopandas.read_file(\"../../data/shapefiles/india_district/sh819zz8121.shp\").to_crs(\"EPSG:4326\")\n",
    "CHENNAI = INDIA[INDIA[\"laa\"] == \"CHENNAI\"]"
   ]
  },
  {
   "cell_type": "code",
   "execution_count": 6,
   "metadata": {},
   "outputs": [
    {
     "name": "stderr",
     "output_type": "stream",
     "text": [
      "c:\\Users\\sahit\\anaconda3\\envs\\heatwaves\\lib\\site-packages\\geopandas\\geodataframe.py:1443: SettingWithCopyWarning: \n",
      "A value is trying to be set on a copy of a slice from a DataFrame.\n",
      "Try using .loc[row_indexer,col_indexer] = value instead\n",
      "\n",
      "See the caveats in the documentation: https://pandas.pydata.org/pandas-docs/stable/user_guide/indexing.html#returning-a-view-versus-a-copy\n",
      "  super().__setitem__(key, value)\n"
     ]
    }
   ],
   "source": [
    "CHENNAI['geometry'] = CHENNAI['geometry'].apply(lambda x: shapely.wkb.loads(\n",
    "        shapely.wkb.dumps(x, output_dimension=2)))"
   ]
  },
  {
   "attachments": {},
   "cell_type": "markdown",
   "metadata": {},
   "source": [
    "## Tessellation in H3\n",
    "\n",
    "In this step, we generate a tessellation layer for the **area of interest** using [H3 resolution 7](https://h3geo.org)."
   ]
  },
  {
   "cell_type": "code",
   "execution_count": 7,
   "metadata": {},
   "outputs": [],
   "source": [
    "TESSELLATION = get_h3_tessellation(CHENNAI, name=\"laa\", resolution=7)"
   ]
  },
  {
   "cell_type": "code",
   "execution_count": 8,
   "metadata": {},
   "outputs": [
    {
     "data": {
      "text/html": [
       "<div style=\"width:100%;\"><div style=\"position:relative;width:100%;height:0;padding-bottom:60%;\"><span style=\"color:#565656\">Make this Notebook Trusted to load map: File -> Trust Notebook</span><iframe srcdoc=\"&lt;!DOCTYPE html&gt;\n",
       "&lt;html&gt;\n",
       "&lt;head&gt;\n",
       "    \n",
       "    &lt;meta http-equiv=&quot;content-type&quot; content=&quot;text/html; charset=UTF-8&quot; /&gt;\n",
       "    \n",
       "        &lt;script&gt;\n",
       "            L_NO_TOUCH = false;\n",
       "            L_DISABLE_3D = false;\n",
       "        &lt;/script&gt;\n",
       "    \n",
       "    &lt;style&gt;html, body {width: 100%;height: 100%;margin: 0;padding: 0;}&lt;/style&gt;\n",
       "    &lt;style&gt;#map {position:absolute;top:0;bottom:0;right:0;left:0;}&lt;/style&gt;\n",
       "    &lt;script src=&quot;https://cdn.jsdelivr.net/npm/leaflet@1.9.3/dist/leaflet.js&quot;&gt;&lt;/script&gt;\n",
       "    &lt;script src=&quot;https://code.jquery.com/jquery-1.12.4.min.js&quot;&gt;&lt;/script&gt;\n",
       "    &lt;script src=&quot;https://cdn.jsdelivr.net/npm/bootstrap@5.2.2/dist/js/bootstrap.bundle.min.js&quot;&gt;&lt;/script&gt;\n",
       "    &lt;script src=&quot;https://cdnjs.cloudflare.com/ajax/libs/Leaflet.awesome-markers/2.0.2/leaflet.awesome-markers.js&quot;&gt;&lt;/script&gt;\n",
       "    &lt;link rel=&quot;stylesheet&quot; href=&quot;https://cdn.jsdelivr.net/npm/leaflet@1.9.3/dist/leaflet.css&quot;/&gt;\n",
       "    &lt;link rel=&quot;stylesheet&quot; href=&quot;https://cdn.jsdelivr.net/npm/bootstrap@5.2.2/dist/css/bootstrap.min.css&quot;/&gt;\n",
       "    &lt;link rel=&quot;stylesheet&quot; href=&quot;https://netdna.bootstrapcdn.com/bootstrap/3.0.0/css/bootstrap.min.css&quot;/&gt;\n",
       "    &lt;link rel=&quot;stylesheet&quot; href=&quot;https://cdn.jsdelivr.net/npm/@fortawesome/fontawesome-free@6.2.0/css/all.min.css&quot;/&gt;\n",
       "    &lt;link rel=&quot;stylesheet&quot; href=&quot;https://cdnjs.cloudflare.com/ajax/libs/Leaflet.awesome-markers/2.0.2/leaflet.awesome-markers.css&quot;/&gt;\n",
       "    &lt;link rel=&quot;stylesheet&quot; href=&quot;https://cdn.jsdelivr.net/gh/python-visualization/folium/folium/templates/leaflet.awesome.rotate.min.css&quot;/&gt;\n",
       "    \n",
       "            &lt;meta name=&quot;viewport&quot; content=&quot;width=device-width,\n",
       "                initial-scale=1.0, maximum-scale=1.0, user-scalable=no&quot; /&gt;\n",
       "            &lt;style&gt;\n",
       "                #map_14c0f1b38f8bb842ad58aae3c165ca79 {\n",
       "                    position: relative;\n",
       "                    width: 100.0%;\n",
       "                    height: 100.0%;\n",
       "                    left: 0.0%;\n",
       "                    top: 0.0%;\n",
       "                }\n",
       "                .leaflet-container { font-size: 1rem; }\n",
       "            &lt;/style&gt;\n",
       "        \n",
       "    \n",
       "                    &lt;style&gt;\n",
       "                        .foliumtooltip {\n",
       "                            \n",
       "                        }\n",
       "                       .foliumtooltip table{\n",
       "                            margin: auto;\n",
       "                        }\n",
       "                        .foliumtooltip tr{\n",
       "                            text-align: left;\n",
       "                        }\n",
       "                        .foliumtooltip th{\n",
       "                            padding: 2px; padding-right: 8px;\n",
       "                        }\n",
       "                    &lt;/style&gt;\n",
       "            \n",
       "&lt;/head&gt;\n",
       "&lt;body&gt;\n",
       "    \n",
       "    \n",
       "            &lt;div class=&quot;folium-map&quot; id=&quot;map_14c0f1b38f8bb842ad58aae3c165ca79&quot; &gt;&lt;/div&gt;\n",
       "        \n",
       "&lt;/body&gt;\n",
       "&lt;script&gt;\n",
       "    \n",
       "    \n",
       "            var map_14c0f1b38f8bb842ad58aae3c165ca79 = L.map(\n",
       "                &quot;map_14c0f1b38f8bb842ad58aae3c165ca79&quot;,\n",
       "                {\n",
       "                    center: [13.058561444893995, 80.2462503991692],\n",
       "                    crs: L.CRS.EPSG3857,\n",
       "                    zoom: 10,\n",
       "                    zoomControl: true,\n",
       "                    preferCanvas: false,\n",
       "                }\n",
       "            );\n",
       "            L.control.scale().addTo(map_14c0f1b38f8bb842ad58aae3c165ca79);\n",
       "\n",
       "            \n",
       "\n",
       "        \n",
       "    \n",
       "            var tile_layer_d9388dad21d072416217e9e79c03296b = L.tileLayer(\n",
       "                &quot;https://{s}.tile.openstreetmap.org/{z}/{x}/{y}.png&quot;,\n",
       "                {&quot;attribution&quot;: &quot;Data by \\u0026copy; \\u003ca target=\\&quot;_blank\\&quot; href=\\&quot;http://openstreetmap.org\\&quot;\\u003eOpenStreetMap\\u003c/a\\u003e, under \\u003ca target=\\&quot;_blank\\&quot; href=\\&quot;http://www.openstreetmap.org/copyright\\&quot;\\u003eODbL\\u003c/a\\u003e.&quot;, &quot;detectRetina&quot;: false, &quot;maxNativeZoom&quot;: 18, &quot;maxZoom&quot;: 18, &quot;minZoom&quot;: 0, &quot;noWrap&quot;: false, &quot;opacity&quot;: 1, &quot;subdomains&quot;: &quot;abc&quot;, &quot;tms&quot;: false}\n",
       "            ).addTo(map_14c0f1b38f8bb842ad58aae3c165ca79);\n",
       "        \n",
       "    \n",
       "            map_14c0f1b38f8bb842ad58aae3c165ca79.fitBounds(\n",
       "                [[12.966444355576217, 80.18470606290592], [13.150678534211773, 80.30779473543248]],\n",
       "                {}\n",
       "            );\n",
       "        \n",
       "    \n",
       "        function geo_json_d34962c996c0ede595453534e9d27332_styler(feature) {\n",
       "            switch(feature.id) {\n",
       "                default:\n",
       "                    return {&quot;fillOpacity&quot;: 0.5, &quot;weight&quot;: 2};\n",
       "            }\n",
       "        }\n",
       "        function geo_json_d34962c996c0ede595453534e9d27332_highlighter(feature) {\n",
       "            switch(feature.id) {\n",
       "                default:\n",
       "                    return {&quot;fillOpacity&quot;: 0.75};\n",
       "            }\n",
       "        }\n",
       "        function geo_json_d34962c996c0ede595453534e9d27332_pointToLayer(feature, latlng) {\n",
       "            var opts = {&quot;bubblingMouseEvents&quot;: true, &quot;color&quot;: &quot;#3388ff&quot;, &quot;dashArray&quot;: null, &quot;dashOffset&quot;: null, &quot;fill&quot;: true, &quot;fillColor&quot;: &quot;#3388ff&quot;, &quot;fillOpacity&quot;: 0.2, &quot;fillRule&quot;: &quot;evenodd&quot;, &quot;lineCap&quot;: &quot;round&quot;, &quot;lineJoin&quot;: &quot;round&quot;, &quot;opacity&quot;: 1.0, &quot;radius&quot;: 2, &quot;stroke&quot;: true, &quot;weight&quot;: 3};\n",
       "            \n",
       "            let style = geo_json_d34962c996c0ede595453534e9d27332_styler(feature)\n",
       "            Object.assign(opts, style)\n",
       "            \n",
       "            return new L.CircleMarker(latlng, opts)\n",
       "        }\n",
       "\n",
       "        function geo_json_d34962c996c0ede595453534e9d27332_onEachFeature(feature, layer) {\n",
       "            layer.on({\n",
       "                mouseout: function(e) {\n",
       "                    if(typeof e.target.setStyle === &quot;function&quot;){\n",
       "                        geo_json_d34962c996c0ede595453534e9d27332.resetStyle(e.target);\n",
       "                    }\n",
       "                },\n",
       "                mouseover: function(e) {\n",
       "                    if(typeof e.target.setStyle === &quot;function&quot;){\n",
       "                        const highlightStyle = geo_json_d34962c996c0ede595453534e9d27332_highlighter(e.target.feature)\n",
       "                        e.target.setStyle(highlightStyle);\n",
       "                    }\n",
       "                },\n",
       "            });\n",
       "        };\n",
       "        var geo_json_d34962c996c0ede595453534e9d27332 = L.geoJson(null, {\n",
       "                onEachFeature: geo_json_d34962c996c0ede595453534e9d27332_onEachFeature,\n",
       "            \n",
       "                style: geo_json_d34962c996c0ede595453534e9d27332_styler,\n",
       "                pointToLayer: geo_json_d34962c996c0ede595453534e9d27332_pointToLayer\n",
       "        });\n",
       "\n",
       "        function geo_json_d34962c996c0ede595453534e9d27332_add (data) {\n",
       "            geo_json_d34962c996c0ede595453534e9d27332\n",
       "                .addData(data)\n",
       "                .addTo(map_14c0f1b38f8bb842ad58aae3c165ca79);\n",
       "        }\n",
       "            geo_json_d34962c996c0ede595453534e9d27332_add({&quot;bbox&quot;: [80.18470606290592, 12.966444355576217, 80.30779473543248, 13.150678534211773], &quot;features&quot;: [{&quot;bbox&quot;: [80.25733501558082, 12.981030954765389, 80.2831912368429, 13.0064288427208], &quot;geometry&quot;: {&quot;coordinates&quot;: [[[80.2831912368429, 12.991027478060783], [80.27918557887797, 13.003727104371585], [80.26625671684741, 13.0064288427208], [80.25733501558082, 12.996432148071866], [80.26134063391831, 12.983733886455806], [80.27426799346162, 12.981030954765389], [80.2831912368429, 12.991027478060783]]], &quot;type&quot;: &quot;Polygon&quot;}, &quot;id&quot;: &quot;0&quot;, &quot;properties&quot;: {&quot;hex_id&quot;: &quot;87618c41affffff&quot;}, &quot;type&quot;: &quot;Feature&quot;}, {&quot;bbox&quot;: [80.25023209184666, 13.041821096178632, 80.27609171731304, 13.067213004559111], &quot;geometry&quot;: {&quot;coordinates&quot;: [[[80.27609171731304, 13.051819095029163], [80.27208526210333, 13.064515730594673], [80.25915469762764, 13.067213004559111], [80.25023209184666, 13.057214837821265], [80.25423850699836, 13.044519565035241], [80.26716756830093, 13.041821096178632], [80.27609171731304, 13.051819095029163]]], &quot;type&quot;: &quot;Polygon&quot;}, &quot;id&quot;: &quot;1&quot;, &quot;properties&quot;: {&quot;hex_id&quot;: &quot;87618c48dffffff&quot;}, &quot;type&quot;: &quot;Feature&quot;}, {&quot;bbox&quot;: [80.28192348559288, 13.094512784544538, 80.30779473543248, 13.119905208589621], &quot;geometry&quot;: {&quot;coordinates&quot;: [[[80.30779473543248, 13.104512545369262], [80.30378768421964, 13.11720943690056], [80.29085130752959, 13.119905208589621], [80.28192348559288, 13.109905282038731], [80.28593049858833, 13.097209749554674], [80.29886537205027, 13.094512784544538], [80.30779473543248, 13.104512545369262]]], &quot;type&quot;: &quot;Polygon&quot;}, &quot;id&quot;: &quot;2&quot;, &quot;properties&quot;: {&quot;hex_id&quot;: &quot;87618c49dffffff&quot;}, &quot;type&quot;: &quot;Feature&quot;}, {&quot;bbox&quot;: [80.23329768274088, 13.057214837821265, 80.25915469762764, 13.082602923290434], &quot;geometry&quot;: {&quot;coordinates&quot;: [[[80.25915469762764, 13.067213004559111], [80.25514800328843, 13.079907728838798], [80.24221874390837, 13.082602923290434], [80.23329768274088, 13.072604589878765], [80.2373043360282, 13.059911228718168], [80.25023209184666, 13.057214837821265], [80.25915469762764, 13.067213004559111]]], &quot;type&quot;: &quot;Polygon&quot;}, &quot;id&quot;: &quot;3&quot;, &quot;properties&quot;: {&quot;hex_id&quot;: &quot;87618c489ffffff&quot;}, &quot;type&quot;: &quot;Feature&quot;}, {&quot;bbox&quot;: [80.20434263850291, 13.110679739064047, 80.23019742833448, 13.13605904642138], &quot;geometry&quot;: {&quot;coordinates&quot;: [[[80.23019742833448, 13.1206788809423], [80.2261899782777, 13.133369215937387], [80.21326183096335, 13.13605904642138], [80.20434263850291, 13.126059741421154], [80.20835004580141, 13.113370769087862], [80.22127668863021, 13.110679739064047], [80.23019742833448, 13.1206788809423]]], &quot;type&quot;: &quot;Polygon&quot;}, &quot;id&quot;: &quot;4&quot;, &quot;properties&quot;: {&quot;hex_id&quot;: &quot;87618eb21ffffff&quot;}, &quot;type&quot;: &quot;Feature&quot;}, {&quot;bbox&quot;: [80.19452246203797, 13.065301048958487, 80.22037123452604, 13.090682577102779], &quot;geometry&quot;: {&quot;coordinates&quot;: [[[80.22037123452604, 13.075298901012443], [80.2163643438411, 13.087990347532163], [80.20343920534822, 13.090682577102779], [80.19452246203797, 13.080684559677394], [80.19852930940337, 13.067994478081337], [80.21145294370993, 13.065301048958487], [80.22037123452604, 13.075298901012443]]], &quot;type&quot;: &quot;Polygon&quot;}, &quot;id&quot;: &quot;5&quot;, &quot;properties&quot;: {&quot;hex_id&quot;: &quot;87618c4d0ffffff&quot;}, &quot;type&quot;: &quot;Feature&quot;}, {&quot;bbox&quot;: [80.19943207800361, 13.087990347532163, 80.22528385901381, 13.113370769087862], &quot;geometry&quot;: {&quot;coordinates&quot;: [[[80.22528385901381, 13.097988846403991], [80.22127668863021, 13.110679739064047], [80.20835004580141, 13.113370769087862], [80.19943207800361, 13.103372105969669], [80.20343920534822, 13.090682577102779], [80.2163643438411, 13.087990347532163], [80.22528385901381, 13.097988846403991]]], &quot;type&quot;: &quot;Polygon&quot;}, &quot;id&quot;: &quot;6&quot;, &quot;properties&quot;: {&quot;hex_id&quot;: &quot;87618c4d2ffffff&quot;}, &quot;type&quot;: &quot;Feature&quot;}, {&quot;bbox&quot;: [80.18470606290592, 13.019922761150452, 80.21054881924796, 13.045306479638393], &quot;geometry&quot;: {&quot;coordinates&quot;: [[[80.21054881924796, 13.029919308138194], [80.20654248803648, 13.042611850959263], [80.19362035776649, 13.045306479638393], [80.18470606290592, 13.035309765027218], [80.18871235023722, 13.022618589388387], [80.2016329766204, 13.019922761150452], [80.21054881924796, 13.029919308138194]]], &quot;type&quot;: &quot;Polygon&quot;}, &quot;id&quot;: &quot;7&quot;, &quot;properties&quot;: {&quot;hex_id&quot;: &quot;87618c4c6ffffff&quot;}, &quot;type&quot;: &quot;Feature&quot;}, {&quot;bbox&quot;: [80.25514800328843, 13.064515730594673, 80.28101063524949, 13.089906540832763], &quot;geometry&quot;: {&quot;coordinates&quot;: [[[80.28101063524949, 13.074514375826535], [80.27700390113398, 13.08721046175574], [80.26407183333662, 13.089906540832763], [80.25514800328843, 13.079907728838798], [80.25915469762764, 13.067213004559111], [80.27208526210333, 13.064515730594673], [80.28101063524949, 13.074514375826535]]], &quot;type&quot;: &quot;Polygon&quot;}, &quot;id&quot;: &quot;8&quot;, &quot;properties&quot;: {&quot;hex_id&quot;: &quot;87618c488ffffff&quot;}, &quot;type&quot;: &quot;Feature&quot;}, {&quot;bbox&quot;: [80.22347226001234, 13.01182936509375, 80.24932326124873, 13.037219634712326], &quot;geometry&quot;: {&quot;coordinates&quot;: [[[80.24932326124873, 13.021826229882342], [80.24531712531018, 13.034522047366144], [80.2323908729044, 13.037219634712326], [80.22347226001234, 13.027222600998135], [80.22747835433678, 13.01452814889178], [80.2404031034789, 13.01182936509375], [80.24932326124873, 13.021826229882342]]], &quot;type&quot;: &quot;Polygon&quot;}, &quot;id&quot;: &quot;9&quot;, &quot;properties&quot;: {&quot;hex_id&quot;: &quot;87618c4f0ffffff&quot;}, &quot;type&quot;: &quot;Feature&quot;}, {&quot;bbox&quot;: [80.24804290319842, 13.12529378207804, 80.2739089407941, 13.150678534211773], &quot;geometry&quot;: {&quot;coordinates&quot;: [[[80.2739089407941, 13.135293873142505], [80.26990140904677, 13.147986929057252], [80.25696763808885, 13.150678534211773], [80.24804290319842, 13.140678279846451], [80.25205039473848, 13.127986583657027], [80.26498266168834, 13.12529378207804], [80.2739089407941, 13.135293873142505]]], &quot;type&quot;: &quot;Polygon&quot;}, &quot;id&quot;: &quot;10&quot;, &quot;properties&quot;: {&quot;hex_id&quot;: &quot;87618eb26ffffff&quot;}, &quot;type&quot;: &quot;Feature&quot;}, {&quot;bbox&quot;: [80.26006485983561, 13.08721046175574, 80.28593049858833, 13.112600166234534], &quot;geometry&quot;: {&quot;coordinates&quot;: [[[80.28593049858833, 13.097209749554674], [80.28192348559288, 13.109905282038731], [80.26898991432539, 13.112600166234534], [80.26006485983561, 13.102600712798072], [80.26407183333662, 13.089906540832763], [80.27700390113398, 13.08721046175574], [80.28593049858833, 13.097209749554674]]], &quot;type&quot;: &quot;Polygon&quot;}, &quot;id&quot;: &quot;11&quot;, &quot;properties&quot;: {&quot;hex_id&quot;: &quot;87618c48affffff&quot;}, &quot;type&quot;: &quot;Feature&quot;}, {&quot;bbox&quot;: [80.19672440926149, 12.981841060098915, 80.22256678012522, 13.007229675888773], &quot;geometry&quot;: {&quot;coordinates&quot;: [[[80.22256678012522, 12.99183677887492], [80.2185609653204, 13.00453177074205], [80.20563902805718, 13.007229675888773], [80.19672440926149, 12.997233787147524], [80.20073018089823, 12.984540163252651], [80.21365061480982, 12.981841060098915], [80.22256678012522, 12.99183677887492]]], &quot;type&quot;: &quot;Polygon&quot;}, &quot;id&quot;: &quot;12&quot;, &quot;properties&quot;: {&quot;hex_id&quot;: &quot;87618c4e2ffffff&quot;}, &quot;type&quot;: &quot;Feature&quot;}, {&quot;bbox&quot;: [80.23821181117788, 13.079907728838798, 80.26407183333662, 13.105294710809915], &quot;geometry&quot;: {&quot;coordinates&quot;: [[[80.26407183333662, 13.089906540832763], [80.26006485983561, 13.102600712798072], [80.24713409674506, 13.105294710809915], [80.23821181117788, 13.095295733267116], [80.24221874390837, 13.082602923290434], [80.25514800328843, 13.079907728838798], [80.26407183333662, 13.089906540832763]]], &quot;type&quot;: &quot;Polygon&quot;}, &quot;id&quot;: &quot;13&quot;, &quot;properties&quot;: {&quot;hex_id&quot;: &quot;87618c48bffffff&quot;}, &quot;type&quot;: &quot;Feature&quot;}, {&quot;bbox&quot;: [80.22127668863021, 13.095295733267116, 80.24713409674506, 13.1206788809423], &quot;geometry&quot;: {&quot;coordinates&quot;: [[[80.24713409674506, 13.105294710809915], [80.24312688459698, 13.117986965796026], [80.23019742833448, 13.1206788809423], [80.22127668863021, 13.110679739064047], [80.22528385901381, 13.097988846403991], [80.23821181117788, 13.095295733267116], [80.24713409674506, 13.105294710809915]]], &quot;type&quot;: &quot;Polygon&quot;}, &quot;id&quot;: &quot;14&quot;, &quot;properties&quot;: {&quot;hex_id&quot;: &quot;87618eb25ffffff&quot;}, &quot;type&quot;: &quot;Feature&quot;}, {&quot;bbox&quot;: [80.2185609653204, 12.989136798623957, 80.24440896017867, 13.01452814889178], &quot;geometry&quot;: {&quot;coordinates&quot;: [[[80.24440896017867, 12.999133006721234], [80.2404031034789, 13.01182936509375], [80.22747835433678, 13.01452814889178], [80.2185609653204, 13.00453177074205], [80.22256678012522, 12.99183677887492], [80.23549002615276, 12.989136798623957], [80.24440896017867, 12.999133006721234]]], &quot;type&quot;: &quot;Polygon&quot;}, &quot;id&quot;: &quot;15&quot;, &quot;properties&quot;: {&quot;hex_id&quot;: &quot;87618c4f5ffffff&quot;}, &quot;type&quot;: &quot;Feature&quot;}, {&quot;bbox&quot;: [80.21365061480982, 12.966444355576217, 80.23949560358818, 12.99183677887492], &quot;geometry&quot;: {&quot;coordinates&quot;: [[[80.23949560358818, 12.97643990317233], [80.23549002615276, 12.989136798623957], [80.22256678012522, 12.99183677887492], [80.21365061480982, 12.981841060098915], [80.21765615006957, 12.969145532279773], [80.23057789313165, 12.966444355576217], [80.23949560358818, 12.97643990317233]]], &quot;type&quot;: &quot;Polygon&quot;}, &quot;id&quot;: &quot;16&quot;, &quot;properties&quot;: {&quot;hex_id&quot;: &quot;87618c4e6ffffff&quot;}, &quot;type&quot;: &quot;Feature&quot;}, {&quot;bbox&quot;: [80.26498266168834, 13.109905282038731, 80.29085130752959, 13.135293873142505], &quot;geometry&quot;: {&quot;coordinates&quot;: [[[80.29085130752959, 13.119905208589621], [80.2868440156801, 13.132600183820244], [80.2739089407941, 13.135293873142505], [80.26498266168834, 13.12529378207804], [80.26898991432539, 13.112600166234534], [80.28192348559288, 13.109905282038731], [80.29085130752959, 13.119905208589621]]], &quot;type&quot;: &quot;Polygon&quot;}, &quot;id&quot;: &quot;17&quot;, &quot;properties&quot;: {&quot;hex_id&quot;: &quot;87618c499ffffff&quot;}, &quot;type&quot;: &quot;Feature&quot;}, {&quot;bbox&quot;: [80.21145294370993, 13.049913543249675, 80.2373043360282, 13.075298901012443], &quot;geometry&quot;: {&quot;coordinates&quot;: [[[80.2373043360282, 13.059911228718168], [80.23329768274088, 13.072604589878765], [80.22037123452604, 13.075298901012443], [80.21145294370993, 13.065301048958487], [80.21545955467084, 13.052609052384907], [80.22838449908576, 13.049913543249675], [80.2373043360282, 13.059911228718168]]], &quot;type&quot;: &quot;Polygon&quot;}, &quot;id&quot;: &quot;18&quot;, &quot;properties&quot;: {&quot;hex_id&quot;: &quot;87618c4d4ffffff&quot;}, &quot;type&quot;: &quot;Feature&quot;}, {&quot;bbox&quot;: [80.24312688459698, 13.102600712798072, 80.26898991432539, 13.127986583657027], &quot;geometry&quot;: {&quot;coordinates&quot;: [[[80.26898991432539, 13.112600166234534], [80.26498266168834, 13.12529378207804], [80.25205039473848, 13.127986583657027], [80.24312688459698, 13.117986965796026], [80.24713409674506, 13.105294710809915], [80.26006485983561, 13.102600712798072], [80.26898991432539, 13.112600166234534]]], &quot;type&quot;: &quot;Polygon&quot;}, &quot;id&quot;: &quot;19&quot;, &quot;properties&quot;: {&quot;hex_id&quot;: &quot;87618eb24ffffff&quot;}, &quot;type&quot;: &quot;Feature&quot;}, {&quot;bbox&quot;: [80.24531712531018, 13.01912656613027, 80.271173744579, 13.044519565035241], &quot;geometry&quot;: {&quot;coordinates&quot;: [[[80.271173744579, 13.0291239147862], [80.26716756830093, 13.041821096178632], [80.25423850699836, 13.044519565035241], [80.24531712531018, 13.034522047366144], [80.24932326124873, 13.021826229882342], [80.26225081952676, 13.01912656613027], [80.271173744579, 13.0291239147862]]], &quot;type&quot;: &quot;Polygon&quot;}, &quot;id&quot;: &quot;20&quot;, &quot;properties&quot;: {&quot;hex_id&quot;: &quot;87618c4f6ffffff&quot;}, &quot;type&quot;: &quot;Feature&quot;}, {&quot;bbox&quot;: [80.18961379040553, 13.042611850959263, 80.21545955467084, 13.067994478081337], &quot;geometry&quot;: {&quot;coordinates&quot;: [[[80.21545955467084, 13.052609052384907], [80.21145294370993, 13.065301048958487], [80.19852930940337, 13.067994478081337], [80.18961379040553, 13.057997110158587], [80.19362035776649, 13.045306479638393], [80.20654248803648, 13.042611850959263], [80.21545955467084, 13.052609052384907]]], &quot;type&quot;: &quot;Polygon&quot;}, &quot;id&quot;: &quot;21&quot;, &quot;properties&quot;: {&quot;hex_id&quot;: &quot;87618c4d5ffffff&quot;}, &quot;type&quot;: &quot;Feature&quot;}, {&quot;bbox&quot;: [80.22838449908576, 13.034522047366144, 80.25423850699836, 13.059911228718168], &quot;geometry&quot;: {&quot;coordinates&quot;: [[[80.25423850699836, 13.044519565035241], [80.25023209184666, 13.057214837821265], [80.2373043360282, 13.059911228718168], [80.22838449908576, 13.049913543249675], [80.2323908729044, 13.037219634712326], [80.24531712531018, 13.034522047366144], [80.25423850699836, 13.044519565035241]]], &quot;type&quot;: &quot;Polygon&quot;}, &quot;id&quot;: &quot;22&quot;, &quot;properties&quot;: {&quot;hex_id&quot;: &quot;87618c4f2ffffff&quot;}, &quot;type&quot;: &quot;Feature&quot;}, {&quot;bbox&quot;: [80.2404031034789, 12.996432148071866, 80.26625671684741, 13.021826229882342], &quot;geometry&quot;: {&quot;coordinates&quot;: [[[80.26625671684741, 13.0064288427208], [80.26225081952676, 13.01912656613027], [80.24932326124873, 13.021826229882342], [80.2404031034789, 13.01182936509375], [80.24440896017867, 12.999133006721234], [80.25733501558082, 12.996432148071866], [80.26625671684741, 13.0064288427208]]], &quot;type&quot;: &quot;Polygon&quot;}, &quot;id&quot;: &quot;23&quot;, &quot;properties&quot;: {&quot;hex_id&quot;: &quot;87618c4f4ffffff&quot;}, &quot;type&quot;: &quot;Feature&quot;}, {&quot;bbox&quot;: [80.20654248803648, 13.027222600998135, 80.2323908729044, 13.052609052384907], &quot;geometry&quot;: {&quot;coordinates&quot;: [[[80.2323908729044, 13.037219634712326], [80.22838449908576, 13.049913543249675], [80.21545955467084, 13.052609052384907], [80.20654248803648, 13.042611850959263], [80.21054881924796, 13.029919308138194], [80.22347226001234, 13.027222600998135], [80.2323908729044, 13.037219634712326]]], &quot;type&quot;: &quot;Polygon&quot;}, &quot;id&quot;: &quot;24&quot;, &quot;properties&quot;: {&quot;hex_id&quot;: &quot;87618c4f3ffffff&quot;}, &quot;type&quot;: &quot;Feature&quot;}, {&quot;bbox&quot;: [80.2016329766204, 13.00453177074205, 80.22747835433678, 13.029919308138194], &quot;geometry&quot;: {&quot;coordinates&quot;: [[[80.22747835433678, 13.01452814889178], [80.22347226001234, 13.027222600998135], [80.21054881924796, 13.029919308138194], [80.2016329766204, 13.019922761150452], [80.20563902805718, 13.007229675888773], [80.2185609653204, 13.00453177074205], [80.22747835433678, 13.01452814889178]]], &quot;type&quot;: &quot;Polygon&quot;}, &quot;id&quot;: &quot;25&quot;, &quot;properties&quot;: {&quot;hex_id&quot;: &quot;87618c4f1ffffff&quot;}, &quot;type&quot;: &quot;Feature&quot;}, {&quot;bbox&quot;: [80.26225081952676, 13.003727104371585, 80.28811004591152, 13.0291239147862], &quot;geometry&quot;: {&quot;coordinates&quot;: [[[80.28811004591152, 13.013724282800682], [80.28410410924512, 13.026423369777042], [80.271173744579, 13.0291239147862], [80.26225081952676, 13.01912656613027], [80.26625671684741, 13.0064288427208], [80.27918557887797, 13.003727104371585], [80.28811004591152, 13.013724282800682]]], &quot;type&quot;: &quot;Polygon&quot;}, &quot;id&quot;: &quot;26&quot;, &quot;properties&quot;: {&quot;hex_id&quot;: &quot;87618c4a9ffffff&quot;}, &quot;type&quot;: &quot;Feature&quot;}, {&quot;bbox&quot;: [80.2163643438411, 13.072604589878765, 80.24221874390837, 13.097988846403991], &quot;geometry&quot;: {&quot;coordinates&quot;: [[[80.24221874390837, 13.082602923290434], [80.23821181117788, 13.095295733267116], [80.22528385901381, 13.097988846403991], [80.2163643438411, 13.087990347532163], [80.22037123452604, 13.075298901012443], [80.23329768274088, 13.072604589878765], [80.24221874390837, 13.082602923290434]]], &quot;type&quot;: &quot;Polygon&quot;}, &quot;id&quot;: &quot;27&quot;, &quot;properties&quot;: {&quot;hex_id&quot;: &quot;87618c4d6ffffff&quot;}, &quot;type&quot;: &quot;Feature&quot;}, {&quot;bbox&quot;: [80.27700390113398, 13.07181621748839, 80.30287214466551, 13.097209749554674], &quot;geometry&quot;: {&quot;coordinates&quot;: [[[80.30287214466551, 13.081815338436938], [80.29886537205027, 13.094512784544538], [80.28593049858833, 13.097209749554674], [80.27700390113398, 13.08721046175574], [80.28101063524949, 13.074514375826535], [80.29394400563136, 13.07181621748839], [80.30287214466551, 13.081815338436938]]], &quot;type&quot;: &quot;Polygon&quot;}, &quot;id&quot;: &quot;28&quot;, &quot;properties&quot;: {&quot;hex_id&quot;: &quot;87618c48effffff&quot;}, &quot;type&quot;: &quot;Feature&quot;}, {&quot;bbox&quot;: [80.23549002615276, 12.97373784962528, 80.26134063391831, 12.999133006721234], &quot;geometry&quot;: {&quot;coordinates&quot;: [[[80.26134063391831, 12.983733886455806], [80.25733501558082, 12.996432148071866], [80.24440896017867, 12.999133006721234], [80.23549002615276, 12.989136798623957], [80.23949560358818, 12.97643990317233], [80.25242015626314, 12.97373784962528], [80.26134063391831, 12.983733886455806]]], &quot;type&quot;: &quot;Polygon&quot;}, &quot;id&quot;: &quot;29&quot;, &quot;properties&quot;: {&quot;hex_id&quot;: &quot;87618c41bffffff&quot;}, &quot;type&quot;: &quot;Feature&quot;}], &quot;type&quot;: &quot;FeatureCollection&quot;});\n",
       "\n",
       "        \n",
       "    \n",
       "    geo_json_d34962c996c0ede595453534e9d27332.bindTooltip(\n",
       "    function(layer){\n",
       "    let div = L.DomUtil.create(&#x27;div&#x27;);\n",
       "    \n",
       "    let handleObject = feature=&gt;typeof(feature)==&#x27;object&#x27; ? JSON.stringify(feature) : feature;\n",
       "    let fields = [&quot;hex_id&quot;];\n",
       "    let aliases = [&quot;hex_id&quot;];\n",
       "    let table = &#x27;&lt;table&gt;&#x27; +\n",
       "        String(\n",
       "        fields.map(\n",
       "        (v,i)=&gt;\n",
       "        `&lt;tr&gt;\n",
       "            &lt;th&gt;${aliases[i]}&lt;/th&gt;\n",
       "            \n",
       "            &lt;td&gt;${handleObject(layer.feature.properties[v])}&lt;/td&gt;\n",
       "        &lt;/tr&gt;`).join(&#x27;&#x27;))\n",
       "    +&#x27;&lt;/table&gt;&#x27;;\n",
       "    div.innerHTML=table;\n",
       "    \n",
       "    return div\n",
       "    }\n",
       "    ,{&quot;className&quot;: &quot;foliumtooltip&quot;, &quot;sticky&quot;: true});\n",
       "                     \n",
       "&lt;/script&gt;\n",
       "&lt;/html&gt;\" style=\"position:absolute;width:100%;height:100%;left:0;top:0;border:none !important;\" allowfullscreen webkitallowfullscreen mozallowfullscreen></iframe></div></div>"
      ],
      "text/plain": [
       "<folium.folium.Map at 0x24147785a80>"
      ]
     },
     "execution_count": 8,
     "metadata": {},
     "output_type": "execute_result"
    }
   ],
   "source": [
    "TESSELLATION.explore()"
   ]
  },
  {
   "cell_type": "code",
   "execution_count": 11,
   "metadata": {},
   "outputs": [],
   "source": [
    "TESSELLATION['centre'] = TESSELLATION['geometry'].apply(lambda x: x.centroid)"
   ]
  },
  {
   "cell_type": "code",
   "execution_count": 12,
   "metadata": {},
   "outputs": [],
   "source": [
    "TESSELLATION[\"geojson\"] = TESSELLATION[\"geometry\"].apply(\n",
    "    lambda x: json.dumps(shapely.geometry.mapping(x))\n",
    ")\n",
    "\n",
    "TESSELLATION[\"centre_geojson\"] = TESSELLATION[\"centre\"].apply(\n",
    "    lambda x: json.dumps(shapely.geometry.mapping(x))\n",
    ")"
   ]
  },
  {
   "attachments": {},
   "cell_type": "markdown",
   "metadata": {
    "tags": []
   },
   "source": [
    "## Retrieve `Historical` from Tomorrow.io API\n",
    "\n",
    "> Tomorrow.io's Historical Weather API allows you to query weather conditions (limited to historical data layers ]) by specifying the location (GeoJSON of a Point, LineString or Polygon), fields (\"temperature\", \"windSpeed\", ...), timesteps (\"1h\", \"1d\") and the startTime and endTime, such that the response include a historical timeline.\n",
    "\n",
    "    Polygon and Polyline limits:\n",
    "\n",
    "    Polygon - 10,000 square km and no more than 70km per segment.\n",
    "    Polyline - 2,000 km long.\n",
    "    Max number of vertices - 550.\n",
    "    Timerange is limited to up to 30 days per API call.\n",
    "\n",
    "    If the location is a Polygon or a Polyline, you can specify whether you want the min/max/avg values throughout that coverage area by adding them as a suffix to any of the available fields (temperatureMax, temperatureMaxTime) and if not specified the response will default to Max.\n",
    "\n",
    "    The historical archive is based on a reanalysis model that blends past short-range weather forecasts with observations through advanced data assimilation techniques. The historical archive data deviates from the recent historical data -7 days since it is based on a different observation data assimilation system that incorporates a larger set of final observational records.\n",
    "    Please note that our reanalysis model takes between 7 to 90 days to calculate the data fields. Please see the historical data field Availability.\n",
    "\n",
    "    See also: https://docs.tomorrow.io/reference/historical-overview"
   ]
  },
  {
   "cell_type": "code",
   "execution_count": 13,
   "metadata": {},
   "outputs": [],
   "source": [
    "class TomorrowAPIClient:\n",
    "    \"\"\"An Asynchronous API client for Tomorrow.io API\"\n",
    "\n",
    "    Parameters\n",
    "    ----------\n",
    "    token : str\n",
    "        Tomorrow.io API token\n",
    "\n",
    "    Notes\n",
    "    -----\n",
    "    For more information, please see https://docs.tomorrow.io\n",
    "    \"\"\"\n",
    "\n",
    "    BASE_URL = \"https://api.tomorrow.io/v4\"\n",
    "\n",
    "    def __init__(\n",
    "        self, session: Optional[ClientSession] = None, token: Optional[str] = None\n",
    "    ):\n",
    "        self.session = session or ClientSession()\n",
    "        self.semaphore = asyncio.BoundedSemaphore(4)\n",
    "        self.token = token or os.getenv(\"TOMORROW_TOKEN\")\n",
    "\n",
    "    async def __aenter__(self):\n",
    "        return self\n",
    "\n",
    "    async def __aexit__(self, *args):\n",
    "        await self.close()\n",
    "\n",
    "    async def close(self):\n",
    "        await self.session.close()\n",
    "\n",
    "    async def post(self, url, json, params={}, headers={}):\n",
    "        params[\"apikey\"] = self.token\n",
    "        async with self.semaphore, self.session.post(\n",
    "            url, json=json, params=params, headers=headers\n",
    "        ) as response:\n",
    "            return await response.json()"
   ]
  },
  {
   "attachments": {},
   "cell_type": "markdown",
   "metadata": {},
   "source": [
    "### Creating `intervals`\n",
    "\n",
    "Let's start in 2021, from January 1st to December 31th. The Tomorrow.io API limits the date range to 30 days. Thus, we create 13 periods of 28 days and add 1 day to the last period."
   ]
  },
  {
   "cell_type": "code",
   "execution_count": 27,
   "metadata": {},
   "outputs": [],
   "source": [
    "date_range = pd.date_range(\"2023-05-10\", \"2023-05-20\", periods=11)\n",
    "intervals = list(zip(date_range, date_range[1:]))"
   ]
  },
  {
   "attachments": {},
   "cell_type": "markdown",
   "metadata": {},
   "source": [
    "Fix by adding last day, "
   ]
  },
  {
   "cell_type": "code",
   "execution_count": 16,
   "metadata": {},
   "outputs": [],
   "source": [
    "intervals[-1] = (pd.Timestamp(\"2022-06-30\"), pd.Timestamp(\"2022-03-24\"))"
   ]
  },
  {
   "cell_type": "code",
   "execution_count": 28,
   "metadata": {},
   "outputs": [
    {
     "data": {
      "text/plain": [
       "[(Timestamp('2023-05-10 00:00:00'), Timestamp('2023-05-11 00:00:00')),\n",
       " (Timestamp('2023-05-11 00:00:00'), Timestamp('2023-05-12 00:00:00')),\n",
       " (Timestamp('2023-05-12 00:00:00'), Timestamp('2023-05-13 00:00:00')),\n",
       " (Timestamp('2023-05-13 00:00:00'), Timestamp('2023-05-14 00:00:00')),\n",
       " (Timestamp('2023-05-14 00:00:00'), Timestamp('2023-05-15 00:00:00')),\n",
       " (Timestamp('2023-05-15 00:00:00'), Timestamp('2023-05-16 00:00:00')),\n",
       " (Timestamp('2023-05-16 00:00:00'), Timestamp('2023-05-17 00:00:00')),\n",
       " (Timestamp('2023-05-17 00:00:00'), Timestamp('2023-05-18 00:00:00')),\n",
       " (Timestamp('2023-05-18 00:00:00'), Timestamp('2023-05-19 00:00:00')),\n",
       " (Timestamp('2023-05-19 00:00:00'), Timestamp('2023-05-20 00:00:00'))]"
      ]
     },
     "execution_count": 28,
     "metadata": {},
     "output_type": "execute_result"
    }
   ],
   "source": [
    "intervals"
   ]
  },
  {
   "attachments": {},
   "cell_type": "markdown",
   "metadata": {},
   "source": [
    "### Create `payloads`"
   ]
  },
  {
   "cell_type": "code",
   "execution_count": 33,
   "metadata": {},
   "outputs": [],
   "source": [
    "payloads = [\n",
    "    {\n",
    "        \"location\": location,\n",
    "        \"fields\": [\"temperatureMax\"],\n",
    "        \"timesteps\": [\"1d\"],\n",
    "        \"startTime\": startTime.isoformat(),\n",
    "        \"endTime\": endTime.isoformat(),\n",
    "        \"units\": \"metric\",\n",
    "    }\n",
    "    for location in TESSELLATION[\"centre_geojson\"]\n",
    "    for (startTime, endTime) in intervals\n",
    "]"
   ]
  },
  {
   "attachments": {},
   "cell_type": "markdown",
   "metadata": {},
   "source": [
    "Just checking the cardinality,"
   ]
  },
  {
   "cell_type": "code",
   "execution_count": 30,
   "metadata": {},
   "outputs": [
    {
     "data": {
      "text/plain": [
       "300"
      ]
     },
     "execution_count": 30,
     "metadata": {},
     "output_type": "execute_result"
    }
   ],
   "source": [
    "len(payloads)"
   ]
  },
  {
   "cell_type": "code",
   "execution_count": 21,
   "metadata": {},
   "outputs": [
    {
     "data": {
      "text/plain": [
       "True"
      ]
     },
     "execution_count": 21,
     "metadata": {},
     "output_type": "execute_result"
    }
   ],
   "source": [
    "len(payloads) == len(TESSELLATION) * len(intervals)"
   ]
  },
  {
   "attachments": {},
   "cell_type": "markdown",
   "metadata": {},
   "source": [
    "Now, let's call the Tomorrow.io API!"
   ]
  },
  {
   "cell_type": "code",
   "execution_count": 22,
   "metadata": {},
   "outputs": [
    {
     "name": "stdout",
     "output_type": "stream",
     "text": [
      "uyOL03vZtbjfkTwKIRFyzO1HOcgoigaa\n"
     ]
    }
   ],
   "source": [
    "print(TOMORROW_API_KEY)"
   ]
  },
  {
   "cell_type": "code",
   "execution_count": 70,
   "metadata": {},
   "outputs": [],
   "source": [
    "async with TomorrowAPIClient(token=TOMORROW_API_KEY) as client:\n",
    "\n",
    "    url = f\"https://api.tomorrow.io/v4/historical\"\n",
    "    headers = {\"Accept\": \"application/json\", \"Content-Type\": \"application/json\"}\n",
    "\n",
    "    futures = [client.post(url, json=payload, headers=headers) for payload in payloads[93:250]]\n",
    "    chennai_tmax2 = await asyncio.gather(*futures)"
   ]
  },
  {
   "cell_type": "code",
   "execution_count": 107,
   "metadata": {},
   "outputs": [
    {
     "data": {
      "text/plain": [
       "{'location': '{\"type\": \"Point\", \"coordinates\": [80.2702631402776, 12.99373019931917]}',\n",
       " 'fields': ['temperatureMax'],\n",
       " 'timesteps': ['1d'],\n",
       " 'startTime': '2023-05-10T00:00:00',\n",
       " 'endTime': '2023-05-11T00:00:00',\n",
       " 'units': 'metric'}"
      ]
     },
     "execution_count": 107,
     "metadata": {},
     "output_type": "execute_result"
    }
   ],
   "source": [
    "payloads[0]"
   ]
  },
  {
   "cell_type": "code",
   "execution_count": 111,
   "metadata": {},
   "outputs": [
    {
     "data": {
      "text/plain": [
       "{'data': {'timelines': [{'timestep': '1d',\n",
       "    'endTime': '2023-05-14T00:00:00Z',\n",
       "    'startTime': '2023-05-13T00:00:00Z',\n",
       "    'intervals': [{'startTime': '2023-05-13T00:00:00Z',\n",
       "      'values': {'temperatureMax': 34.91}},\n",
       "     {'startTime': '2023-05-14T00:00:00Z',\n",
       "      'values': {'temperatureMax': 36.52}}]}]}}"
      ]
     },
     "execution_count": 111,
     "metadata": {},
     "output_type": "execute_result"
    }
   ],
   "source": [
    "chennai_tmax[3]"
   ]
  },
  {
   "cell_type": "code",
   "execution_count": 114,
   "metadata": {},
   "outputs": [],
   "source": [
    "import json\n",
    "\n",
    "with open('../../data/weather/chennai_tmax_0_93.json', \"w\") as outfile:\n",
    "    json.dump(chennai_tmax, outfile)"
   ]
  },
  {
   "cell_type": "code",
   "execution_count": 102,
   "metadata": {},
   "outputs": [
    {
     "data": {
      "text/html": [
       "<div>\n",
       "<style scoped>\n",
       "    .dataframe tbody tr th:only-of-type {\n",
       "        vertical-align: middle;\n",
       "    }\n",
       "\n",
       "    .dataframe tbody tr th {\n",
       "        vertical-align: top;\n",
       "    }\n",
       "\n",
       "    .dataframe thead th {\n",
       "        text-align: right;\n",
       "    }\n",
       "</style>\n",
       "<table border=\"1\" class=\"dataframe\">\n",
       "  <thead>\n",
       "    <tr style=\"text-align: right;\">\n",
       "      <th></th>\n",
       "      <th>data</th>\n",
       "      <th>code</th>\n",
       "      <th>type</th>\n",
       "      <th>message</th>\n",
       "    </tr>\n",
       "  </thead>\n",
       "  <tbody>\n",
       "    <tr>\n",
       "      <th>0</th>\n",
       "      <td>{'timelines': [{'timestep': '1d', 'endTime': '...</td>\n",
       "      <td>NaN</td>\n",
       "      <td>NaN</td>\n",
       "      <td>NaN</td>\n",
       "    </tr>\n",
       "    <tr>\n",
       "      <th>1</th>\n",
       "      <td>{'timelines': [{'timestep': '1d', 'endTime': '...</td>\n",
       "      <td>NaN</td>\n",
       "      <td>NaN</td>\n",
       "      <td>NaN</td>\n",
       "    </tr>\n",
       "    <tr>\n",
       "      <th>2</th>\n",
       "      <td>{'timelines': [{'timestep': '1d', 'endTime': '...</td>\n",
       "      <td>NaN</td>\n",
       "      <td>NaN</td>\n",
       "      <td>NaN</td>\n",
       "    </tr>\n",
       "    <tr>\n",
       "      <th>3</th>\n",
       "      <td>{'timelines': [{'timestep': '1d', 'endTime': '...</td>\n",
       "      <td>NaN</td>\n",
       "      <td>NaN</td>\n",
       "      <td>NaN</td>\n",
       "    </tr>\n",
       "    <tr>\n",
       "      <th>4</th>\n",
       "      <td>{'timelines': [{'timestep': '1d', 'endTime': '...</td>\n",
       "      <td>NaN</td>\n",
       "      <td>NaN</td>\n",
       "      <td>NaN</td>\n",
       "    </tr>\n",
       "    <tr>\n",
       "      <th>...</th>\n",
       "      <td>...</td>\n",
       "      <td>...</td>\n",
       "      <td>...</td>\n",
       "      <td>...</td>\n",
       "    </tr>\n",
       "    <tr>\n",
       "      <th>90</th>\n",
       "      <td>{'timelines': [{'timestep': '1d', 'endTime': '...</td>\n",
       "      <td>NaN</td>\n",
       "      <td>NaN</td>\n",
       "      <td>NaN</td>\n",
       "    </tr>\n",
       "    <tr>\n",
       "      <th>91</th>\n",
       "      <td>{'timelines': [{'timestep': '1d', 'endTime': '...</td>\n",
       "      <td>NaN</td>\n",
       "      <td>NaN</td>\n",
       "      <td>NaN</td>\n",
       "    </tr>\n",
       "    <tr>\n",
       "      <th>92</th>\n",
       "      <td>{'timelines': [{'timestep': '1d', 'endTime': '...</td>\n",
       "      <td>NaN</td>\n",
       "      <td>NaN</td>\n",
       "      <td>NaN</td>\n",
       "    </tr>\n",
       "    <tr>\n",
       "      <th>93</th>\n",
       "      <td>{'timelines': [{'timestep': '1d', 'endTime': '...</td>\n",
       "      <td>NaN</td>\n",
       "      <td>NaN</td>\n",
       "      <td>NaN</td>\n",
       "    </tr>\n",
       "    <tr>\n",
       "      <th>165</th>\n",
       "      <td>{'timelines': [{'timestep': '1d', 'endTime': '...</td>\n",
       "      <td>NaN</td>\n",
       "      <td>NaN</td>\n",
       "      <td>NaN</td>\n",
       "    </tr>\n",
       "  </tbody>\n",
       "</table>\n",
       "<p>95 rows × 4 columns</p>\n",
       "</div>"
      ],
      "text/plain": [
       "                                                  data  code type message\n",
       "0    {'timelines': [{'timestep': '1d', 'endTime': '...   NaN  NaN     NaN\n",
       "1    {'timelines': [{'timestep': '1d', 'endTime': '...   NaN  NaN     NaN\n",
       "2    {'timelines': [{'timestep': '1d', 'endTime': '...   NaN  NaN     NaN\n",
       "3    {'timelines': [{'timestep': '1d', 'endTime': '...   NaN  NaN     NaN\n",
       "4    {'timelines': [{'timestep': '1d', 'endTime': '...   NaN  NaN     NaN\n",
       "..                                                 ...   ...  ...     ...\n",
       "90   {'timelines': [{'timestep': '1d', 'endTime': '...   NaN  NaN     NaN\n",
       "91   {'timelines': [{'timestep': '1d', 'endTime': '...   NaN  NaN     NaN\n",
       "92   {'timelines': [{'timestep': '1d', 'endTime': '...   NaN  NaN     NaN\n",
       "93   {'timelines': [{'timestep': '1d', 'endTime': '...   NaN  NaN     NaN\n",
       "165  {'timelines': [{'timestep': '1d', 'endTime': '...   NaN  NaN     NaN\n",
       "\n",
       "[95 rows x 4 columns]"
      ]
     },
     "execution_count": 102,
     "metadata": {},
     "output_type": "execute_result"
    }
   ],
   "source": [
    "df = pd.DataFrame(chennai_tmax)\n",
    "df=df[df['code'].isna()]\n",
    "df"
   ]
  },
  {
   "cell_type": "code",
   "execution_count": null,
   "metadata": {},
   "outputs": [],
   "source": []
  },
  {
   "cell_type": "code",
   "execution_count": 106,
   "metadata": {},
   "outputs": [
    {
     "data": {
      "text/plain": [
       "{'timelines': [{'timestep': '1d',\n",
       "   'endTime': '2023-05-11T00:00:00Z',\n",
       "   'startTime': '2023-05-10T00:00:00Z',\n",
       "   'intervals': [{'startTime': '2023-05-10T00:00:00Z',\n",
       "     'values': {'temperatureMax': 33.22}},\n",
       "    {'startTime': '2023-05-11T00:00:00Z',\n",
       "     'values': {'temperatureMax': 33.68}}]}]}"
      ]
     },
     "execution_count": 106,
     "metadata": {},
     "output_type": "execute_result"
    }
   ],
   "source": [
    "df.iloc[0]['data']"
   ]
  },
  {
   "attachments": {},
   "cell_type": "markdown",
   "metadata": {},
   "source": [
    "## Data Manipulation"
   ]
  },
  {
   "cell_type": "code",
   "execution_count": 88,
   "metadata": {},
   "outputs": [
    {
     "ename": "AttributeError",
     "evalue": "module 'pandas' has no attribute 'dataFrame'",
     "output_type": "error",
     "traceback": [
      "\u001b[1;31m---------------------------------------------------------------------------\u001b[0m",
      "\u001b[1;31mAttributeError\u001b[0m                            Traceback (most recent call last)",
      "Cell \u001b[1;32mIn[88], line 1\u001b[0m\n\u001b[1;32m----> 1\u001b[0m pd\u001b[39m.\u001b[39;49mdataFrame(dataframes)\n",
      "File \u001b[1;32mc:\\Users\\sahit\\anaconda3\\envs\\heatwaves\\lib\\site-packages\\pandas\\__init__.py:261\u001b[0m, in \u001b[0;36m__getattr__\u001b[1;34m(name)\u001b[0m\n\u001b[0;32m    257\u001b[0m     \u001b[39mfrom\u001b[39;00m \u001b[39mpandas\u001b[39;00m\u001b[39m.\u001b[39;00m\u001b[39mcore\u001b[39;00m\u001b[39m.\u001b[39;00m\u001b[39marrays\u001b[39;00m\u001b[39m.\u001b[39;00m\u001b[39msparse\u001b[39;00m \u001b[39mimport\u001b[39;00m SparseArray \u001b[39mas\u001b[39;00m _SparseArray\n\u001b[0;32m    259\u001b[0m     \u001b[39mreturn\u001b[39;00m _SparseArray\n\u001b[1;32m--> 261\u001b[0m \u001b[39mraise\u001b[39;00m \u001b[39mAttributeError\u001b[39;00m(\u001b[39mf\u001b[39m\u001b[39m\"\u001b[39m\u001b[39mmodule \u001b[39m\u001b[39m'\u001b[39m\u001b[39mpandas\u001b[39m\u001b[39m'\u001b[39m\u001b[39m has no attribute \u001b[39m\u001b[39m'\u001b[39m\u001b[39m{\u001b[39;00mname\u001b[39m}\u001b[39;00m\u001b[39m'\u001b[39m\u001b[39m\"\u001b[39m)\n",
      "\u001b[1;31mAttributeError\u001b[0m: module 'pandas' has no attribute 'dataFrame'"
     ]
    }
   ],
   "source": [
    "pd.dataFrame(dataframes)"
   ]
  },
  {
   "cell_type": "code",
   "execution_count": 80,
   "metadata": {},
   "outputs": [],
   "source": [
    "for i in [0,93]:\n",
    "    item = chennai_tmax[i]\n",
    "    dataframes = pd.json_normalize(item[\"data\"][\"timelines\"][0][\"intervals\"])"
   ]
  },
  {
   "cell_type": "code",
   "execution_count": 56,
   "metadata": {},
   "outputs": [],
   "source": [
    "import ast\n",
    "dataframes =  pd.json_normalize(dict(chennai_tmax[0])['data']['timelines'][0]['intervals'])"
   ]
  },
  {
   "cell_type": "code",
   "execution_count": 82,
   "metadata": {},
   "outputs": [],
   "source": [
    "dataframes = [pd.json_normalize(item[\"data\"][\"timelines\"][0][\"intervals\"]) for item in chennai_tmax[0:93]]"
   ]
  },
  {
   "attachments": {},
   "cell_type": "markdown",
   "metadata": {},
   "source": [
    "Concatenating,"
   ]
  },
  {
   "cell_type": "code",
   "execution_count": 58,
   "metadata": {},
   "outputs": [
    {
     "data": {
      "text/html": [
       "<div>\n",
       "<style scoped>\n",
       "    .dataframe tbody tr th:only-of-type {\n",
       "        vertical-align: middle;\n",
       "    }\n",
       "\n",
       "    .dataframe tbody tr th {\n",
       "        vertical-align: top;\n",
       "    }\n",
       "\n",
       "    .dataframe thead th {\n",
       "        text-align: right;\n",
       "    }\n",
       "</style>\n",
       "<table border=\"1\" class=\"dataframe\">\n",
       "  <thead>\n",
       "    <tr style=\"text-align: right;\">\n",
       "      <th></th>\n",
       "      <th>startTime</th>\n",
       "      <th>values.temperatureMax</th>\n",
       "    </tr>\n",
       "  </thead>\n",
       "  <tbody>\n",
       "    <tr>\n",
       "      <th>0</th>\n",
       "      <td>2023-05-10T00:00:00Z</td>\n",
       "      <td>33.22</td>\n",
       "    </tr>\n",
       "    <tr>\n",
       "      <th>1</th>\n",
       "      <td>2023-05-11T00:00:00Z</td>\n",
       "      <td>33.68</td>\n",
       "    </tr>\n",
       "    <tr>\n",
       "      <th>0</th>\n",
       "      <td>2023-05-11T00:00:00Z</td>\n",
       "      <td>33.68</td>\n",
       "    </tr>\n",
       "    <tr>\n",
       "      <th>1</th>\n",
       "      <td>2023-05-12T00:00:00Z</td>\n",
       "      <td>34.42</td>\n",
       "    </tr>\n",
       "    <tr>\n",
       "      <th>0</th>\n",
       "      <td>2023-05-12T00:00:00Z</td>\n",
       "      <td>34.42</td>\n",
       "    </tr>\n",
       "    <tr>\n",
       "      <th>...</th>\n",
       "      <td>...</td>\n",
       "      <td>...</td>\n",
       "    </tr>\n",
       "    <tr>\n",
       "      <th>1</th>\n",
       "      <td>2023-05-11T00:00:00Z</td>\n",
       "      <td>33.68</td>\n",
       "    </tr>\n",
       "    <tr>\n",
       "      <th>0</th>\n",
       "      <td>2023-05-11T00:00:00Z</td>\n",
       "      <td>33.68</td>\n",
       "    </tr>\n",
       "    <tr>\n",
       "      <th>1</th>\n",
       "      <td>2023-05-12T00:00:00Z</td>\n",
       "      <td>34.42</td>\n",
       "    </tr>\n",
       "    <tr>\n",
       "      <th>0</th>\n",
       "      <td>2023-05-12T00:00:00Z</td>\n",
       "      <td>34.42</td>\n",
       "    </tr>\n",
       "    <tr>\n",
       "      <th>1</th>\n",
       "      <td>2023-05-13T00:00:00Z</td>\n",
       "      <td>34.91</td>\n",
       "    </tr>\n",
       "  </tbody>\n",
       "</table>\n",
       "<p>186 rows × 2 columns</p>\n",
       "</div>"
      ],
      "text/plain": [
       "               startTime  values.temperatureMax\n",
       "0   2023-05-10T00:00:00Z                  33.22\n",
       "1   2023-05-11T00:00:00Z                  33.68\n",
       "0   2023-05-11T00:00:00Z                  33.68\n",
       "1   2023-05-12T00:00:00Z                  34.42\n",
       "0   2023-05-12T00:00:00Z                  34.42\n",
       "..                   ...                    ...\n",
       "1   2023-05-11T00:00:00Z                  33.68\n",
       "0   2023-05-11T00:00:00Z                  33.68\n",
       "1   2023-05-12T00:00:00Z                  34.42\n",
       "0   2023-05-12T00:00:00Z                  34.42\n",
       "1   2023-05-13T00:00:00Z                  34.91\n",
       "\n",
       "[186 rows x 2 columns]"
      ]
     },
     "execution_count": 58,
     "metadata": {},
     "output_type": "execute_result"
    }
   ],
   "source": [
    "df = pd.concat(dataframes)\n",
    "df"
   ]
  }
 ],
 "metadata": {
  "kernelspec": {
   "display_name": "Python 3",
   "language": "python",
   "name": "python3"
  },
  "language_info": {
   "codemirror_mode": {
    "name": "ipython",
    "version": 3
   },
   "file_extension": ".py",
   "mimetype": "text/x-python",
   "name": "python",
   "nbconvert_exporter": "python",
   "pygments_lexer": "ipython3",
   "version": "3.10.11"
  },
  "vscode": {
   "interpreter": {
    "hash": "15a24df50aad89762b44c55dbfccf1a441e09a49c35bfde0e81545326154b02b"
   }
  }
 },
 "nbformat": 4,
 "nbformat_minor": 4
}
